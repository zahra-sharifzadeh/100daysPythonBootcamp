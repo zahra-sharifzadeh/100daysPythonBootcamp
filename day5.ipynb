{
  "nbformat": 4,
  "nbformat_minor": 0,
  "metadata": {
    "colab": {
      "provenance": [],
      "authorship_tag": "ABX9TyP2PH9o8jdZtt1VSrQCIQDv",
      "include_colab_link": true
    },
    "kernelspec": {
      "name": "python3",
      "display_name": "Python 3"
    },
    "language_info": {
      "name": "python"
    }
  },
  "cells": [
    {
      "cell_type": "markdown",
      "metadata": {
        "id": "view-in-github",
        "colab_type": "text"
      },
      "source": [
        "<a href=\"https://colab.research.google.com/github/zahra-sharifzadeh/100daysPythonBootcamp/blob/main/day5.ipynb\" target=\"_parent\"><img src=\"https://colab.research.google.com/assets/colab-badge.svg\" alt=\"Open In Colab\"/></a>"
      ]
    },
    {
      "cell_type": "markdown",
      "source": [
        "# For loop"
      ],
      "metadata": {
        "id": "ttS8Wf-UImH6"
      }
    },
    {
      "cell_type": "code",
      "execution_count": 1,
      "metadata": {
        "colab": {
          "base_uri": "https://localhost:8080/"
        },
        "id": "NELU4sTiwcs8",
        "outputId": "ed114ab3-5fcd-4996-d33e-25085dddf082"
      },
      "outputs": [
        {
          "output_type": "stream",
          "name": "stdout",
          "text": [
            "Apple\n",
            "Peach\n",
            "Pear\n"
          ]
        }
      ],
      "source": [
        "fruits = [\"Apple\", \"Peach\", \"Pear\"]\n",
        "\n",
        "for fruit in fruits:\n",
        "  print(fruit)"
      ]
    },
    {
      "cell_type": "code",
      "source": [
        "fruits = [\"Apple\", \"Peach\", \"Pear\"]\n",
        "\n",
        "for fruit in fruits:\n",
        "  print(fruit)\n",
        "  print(fruit + \" Pie\")\n"
      ],
      "metadata": {
        "colab": {
          "base_uri": "https://localhost:8080/"
        },
        "id": "4_9GCBuRIxVu",
        "outputId": "87d8de0e-7ae9-476b-c1b6-78036f23b957"
      },
      "execution_count": 3,
      "outputs": [
        {
          "output_type": "stream",
          "name": "stdout",
          "text": [
            "Apple\n",
            "Apple Pie\n",
            "Peach\n",
            "Peach Pie\n",
            "Pear\n",
            "Pear Pie\n"
          ]
        }
      ]
    },
    {
      "cell_type": "markdown",
      "source": [
        "## Avg Height"
      ],
      "metadata": {
        "id": "RFUpyYMsKEER"
      }
    },
    {
      "cell_type": "code",
      "source": [
        "student_heights = input(\"Input a list of student heights: \").split()\n",
        "\n",
        "for n in range(0 , len(student_heights)):\n",
        "  student_heights[n] = int(student_heights[n])\n",
        "\n",
        "print(student_heights)"
      ],
      "metadata": {
        "colab": {
          "base_uri": "https://localhost:8080/"
        },
        "id": "zcLLCo7mJRzl",
        "outputId": "12a89c9c-f875-451b-9e71-c19d31badd76"
      },
      "execution_count": 4,
      "outputs": [
        {
          "output_type": "stream",
          "name": "stdout",
          "text": [
            "Input a list of student heights: 156 178 165 171 187\n",
            "[156, 178, 165, 171, 187]\n"
          ]
        }
      ]
    },
    {
      "cell_type": "code",
      "source": [
        "num = 0\n",
        "sum_of_heights = 0\n",
        "\n",
        "for height in student_heights:\n",
        "  num += 1\n",
        "  sum_of_heights += height\n",
        "\n",
        "avg = sum_of_heights / num\n",
        "\n",
        "print(sum_of_heights , num)\n",
        "print(f\"avg: {round(avg, 2)}\")\n"
      ],
      "metadata": {
        "colab": {
          "base_uri": "https://localhost:8080/"
        },
        "id": "wXPDp-XHLWGN",
        "outputId": "be69df1c-cc5e-469b-e896-30486ef66387"
      },
      "execution_count": 11,
      "outputs": [
        {
          "output_type": "stream",
          "name": "stdout",
          "text": [
            "857 5\n",
            "avg: 171.4\n"
          ]
        }
      ]
    },
    {
      "cell_type": "markdown",
      "source": [
        "## Highest Scoer"
      ],
      "metadata": {
        "id": "FBkO1pj0NBRK"
      }
    },
    {
      "cell_type": "code",
      "source": [
        "student_scores = input(\"Input a list of student scores: \").split()\n",
        "\n",
        "for n in range(0 , len(student_scores)):\n",
        "  student_scores[n] = int(student_scores[n])\n",
        "\n",
        "print(student_scores)"
      ],
      "metadata": {
        "colab": {
          "base_uri": "https://localhost:8080/"
        },
        "id": "5fPZNOpfL2RC",
        "outputId": "5642116e-7dcd-4b29-9ab3-115281cbe4f6"
      },
      "execution_count": 12,
      "outputs": [
        {
          "output_type": "stream",
          "name": "stdout",
          "text": [
            "Input a list of student scores: 78 65 89 55 91 64 89\n",
            "[78, 65, 89, 55, 91, 64, 89]\n"
          ]
        }
      ]
    },
    {
      "cell_type": "code",
      "source": [
        "max = student_scores[0]\n",
        "for score in student_scores:\n",
        "  if score > max:\n",
        "    max = score\n",
        "\n",
        "print(f\"The highest score in the class is: {max}\")"
      ],
      "metadata": {
        "colab": {
          "base_uri": "https://localhost:8080/"
        },
        "id": "RMaNZu5eNUYe",
        "outputId": "31042954-3831-497a-a948-ec7673816cce"
      },
      "execution_count": 16,
      "outputs": [
        {
          "output_type": "stream",
          "name": "stdout",
          "text": [
            "The highest score in the class is: 91\n"
          ]
        }
      ]
    },
    {
      "cell_type": "markdown",
      "source": [
        "## For and range"
      ],
      "metadata": {
        "id": "lioDJ4zMcvzo"
      }
    },
    {
      "cell_type": "code",
      "source": [
        "for number in range(1, 10, 2): # (start, stop, step)\n",
        "  print(number)"
      ],
      "metadata": {
        "colab": {
          "base_uri": "https://localhost:8080/"
        },
        "id": "3ws1cLUTXg3y",
        "outputId": "9fe247db-2656-4bc7-fe84-77de264ac8e4"
      },
      "execution_count": 18,
      "outputs": [
        {
          "output_type": "stream",
          "name": "stdout",
          "text": [
            "1\n",
            "3\n",
            "5\n",
            "7\n",
            "9\n"
          ]
        }
      ]
    },
    {
      "cell_type": "code",
      "source": [
        "total = 0\n",
        "for num in range(1, 101):\n",
        "  total += num\n",
        "\n",
        "print(total)"
      ],
      "metadata": {
        "colab": {
          "base_uri": "https://localhost:8080/"
        },
        "id": "9FCih2HfdUKq",
        "outputId": "477668ad-08d6-43d6-ec5e-455959f46f1e"
      },
      "execution_count": 19,
      "outputs": [
        {
          "output_type": "stream",
          "name": "stdout",
          "text": [
            "5050\n"
          ]
        }
      ]
    },
    {
      "cell_type": "markdown",
      "source": [
        "## sum of even number"
      ],
      "metadata": {
        "id": "JzpAgulld8oL"
      }
    },
    {
      "cell_type": "code",
      "source": [
        "even_total = 0\n",
        "\n",
        "for i in range(2, 101, 2):\n",
        "  even_total += i\n",
        "\n",
        "print(even_total)"
      ],
      "metadata": {
        "colab": {
          "base_uri": "https://localhost:8080/"
        },
        "id": "D7UqrKzMdsGX",
        "outputId": "cbcfdad2-d4ba-4911-d342-8a59ab3211f5"
      },
      "execution_count": 24,
      "outputs": [
        {
          "output_type": "stream",
          "name": "stdout",
          "text": [
            "2550\n"
          ]
        }
      ]
    },
    {
      "cell_type": "markdown",
      "source": [
        "## Fizz Buzz"
      ],
      "metadata": {
        "id": "OTI83G9-fZRR"
      }
    },
    {
      "cell_type": "code",
      "source": [
        "for i in range(1 , 101):\n",
        "\n",
        "  if  i%15 ==0:\n",
        "    print(\"FizzBuzz\")\n",
        "\n",
        "  elif i%3 ==0:\n",
        "    print(\"Fizz\")\n",
        "\n",
        "  elif i%5 ==0:\n",
        "    print(\"Buzz\")\n",
        "\n",
        "  else:\n",
        "    print(i)"
      ],
      "metadata": {
        "colab": {
          "base_uri": "https://localhost:8080/"
        },
        "id": "SdyCvtVbeK9Q",
        "outputId": "6b4ff76b-6f24-464a-cc43-a8e6f9d4f0aa"
      },
      "execution_count": 25,
      "outputs": [
        {
          "output_type": "stream",
          "name": "stdout",
          "text": [
            "1\n",
            "2\n",
            "Fizz\n",
            "4\n",
            "Buzz\n",
            "Fizz\n",
            "7\n",
            "8\n",
            "Fizz\n",
            "Buzz\n",
            "11\n",
            "Fizz\n",
            "13\n",
            "14\n",
            "FizzBuzz\n",
            "16\n",
            "17\n",
            "Fizz\n",
            "19\n",
            "Buzz\n",
            "Fizz\n",
            "22\n",
            "23\n",
            "Fizz\n",
            "Buzz\n",
            "26\n",
            "Fizz\n",
            "28\n",
            "29\n",
            "FizzBuzz\n",
            "31\n",
            "32\n",
            "Fizz\n",
            "34\n",
            "Buzz\n",
            "Fizz\n",
            "37\n",
            "38\n",
            "Fizz\n",
            "Buzz\n",
            "41\n",
            "Fizz\n",
            "43\n",
            "44\n",
            "FizzBuzz\n",
            "46\n",
            "47\n",
            "Fizz\n",
            "49\n",
            "Buzz\n",
            "Fizz\n",
            "52\n",
            "53\n",
            "Fizz\n",
            "Buzz\n",
            "56\n",
            "Fizz\n",
            "58\n",
            "59\n",
            "FizzBuzz\n",
            "61\n",
            "62\n",
            "Fizz\n",
            "64\n",
            "Buzz\n",
            "Fizz\n",
            "67\n",
            "68\n",
            "Fizz\n",
            "Buzz\n",
            "71\n",
            "Fizz\n",
            "73\n",
            "74\n",
            "FizzBuzz\n",
            "76\n",
            "77\n",
            "Fizz\n",
            "79\n",
            "Buzz\n",
            "Fizz\n",
            "82\n",
            "83\n",
            "Fizz\n",
            "Buzz\n",
            "86\n",
            "Fizz\n",
            "88\n",
            "89\n",
            "FizzBuzz\n",
            "91\n",
            "92\n",
            "Fizz\n",
            "94\n",
            "Buzz\n",
            "Fizz\n",
            "97\n",
            "98\n",
            "Fizz\n",
            "Buzz\n"
          ]
        }
      ]
    },
    {
      "cell_type": "markdown",
      "source": [
        "# Password Generator\n"
      ],
      "metadata": {
        "id": "x8_kWDQJghtc"
      }
    },
    {
      "cell_type": "code",
      "source": [
        "import random\n",
        "\n",
        "\n",
        "letters = ['a', 'b', 'c', 'd', 'e', 'f', 'g', 'h', 'i', 'j', 'k', 'l', 'm', 'n', 'o', 'p', 'q', 'r', 's', 't', 'u', 'v', 'w', 'x', 'y', 'z', 'A', 'B', 'C', 'D', 'E', 'F', 'G', 'H', 'I', 'J', 'K', 'L', 'M', 'N', 'O', 'P', 'Q', 'R', 'S', 'T', 'U', 'V', 'W', 'X', 'Y', 'Z']\n",
        "numbers = ['0', '1', '2', '3', '4', '5', '6', '7', '8', '9']\n",
        "symbols = ['!', '#', '$', '%', '&', '(', ')', '*', '+']\n",
        "\n",
        "print(\"Welcome to the PyPassword Generator!\")\n",
        "nr_letters= int(input(\"How many letters would you like in your password?\\n\"))\n",
        "nr_symbols = int(input(f\"How many symbols would you like?\\n\"))\n",
        "nr_numbers = int(input(f\"How many numbers would you like?\\n\"))\n",
        "\n",
        "password = ''\n",
        "\n",
        "for i in range(nr_letters):\n",
        "  password += random.choice(letters)\n",
        "\n",
        "for i in range(nr_symbols):\n",
        "  password += random.choice(symbols)\n",
        "\n",
        "for i in range(nr_numbers):\n",
        "  password += random.choice(numbers)\n",
        "\n",
        "print(f\"easy pass: {password}\")\n",
        "\n",
        "\n",
        "l_pass = list(password)\n",
        "random.shuffle(l_pass)\n",
        "result_pass = ''.join(l_pass)\n",
        "\n",
        "print(f\"better pass: {result_pass}\")\n"
      ],
      "metadata": {
        "colab": {
          "base_uri": "https://localhost:8080/"
        },
        "id": "3M3I5K8UgNGK",
        "outputId": "628ef949-771c-410f-c221-9114d0108ffb"
      },
      "execution_count": 32,
      "outputs": [
        {
          "output_type": "stream",
          "name": "stdout",
          "text": [
            "Welcome to the PyPassword Generator!\n",
            "How many letters would you like in your password?\n",
            "2\n",
            "How many symbols would you like?\n",
            "3\n",
            "How many numbers would you like?\n",
            "4\n",
            "easy pass: tp#$+7991\n",
            "better pass: $#+917p9t\n"
          ]
        }
      ]
    },
    {
      "cell_type": "code",
      "source": [],
      "metadata": {
        "colab": {
          "base_uri": "https://localhost:8080/"
        },
        "id": "9EMFNGoO4RjU",
        "outputId": "10ab6a30-6d3f-4f1d-faf6-b3e1c649ca68"
      },
      "execution_count": 31,
      "outputs": [
        {
          "output_type": "execute_result",
          "data": {
            "text/plain": [
              "3"
            ]
          },
          "metadata": {},
          "execution_count": 31
        }
      ]
    },
    {
      "cell_type": "code",
      "source": [],
      "metadata": {
        "id": "yX8LCCif4yfE"
      },
      "execution_count": null,
      "outputs": []
    }
  ]
}