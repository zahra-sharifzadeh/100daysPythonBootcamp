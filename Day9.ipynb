{
  "nbformat": 4,
  "nbformat_minor": 0,
  "metadata": {
    "colab": {
      "provenance": [],
      "authorship_tag": "ABX9TyNt4lAJB3AVkjUlNxZv2bOw",
      "include_colab_link": true
    },
    "kernelspec": {
      "name": "python3",
      "display_name": "Python 3"
    },
    "language_info": {
      "name": "python"
    }
  },
  "cells": [
    {
      "cell_type": "markdown",
      "metadata": {
        "id": "view-in-github",
        "colab_type": "text"
      },
      "source": [
        "<a href=\"https://colab.research.google.com/github/zahra-sharifzadeh/100daysPythonBootcamp/blob/main/Day9.ipynb\" target=\"_parent\"><img src=\"https://colab.research.google.com/assets/colab-badge.svg\" alt=\"Open In Colab\"/></a>"
      ]
    },
    {
      "cell_type": "markdown",
      "source": [
        "# Dictionaries\n",
        "{key: Value}"
      ],
      "metadata": {
        "id": "MKgo0559of_3"
      }
    },
    {
      "cell_type": "code",
      "execution_count": 2,
      "metadata": {
        "colab": {
          "base_uri": "https://localhost:8080/"
        },
        "id": "ZcaY-1NIjduy",
        "outputId": "26c321c7-9df4-499f-eb14-1a49fe693900"
      },
      "outputs": [
        {
          "output_type": "stream",
          "name": "stdout",
          "text": [
            "An error in a program that prevents the program from running as expected.\n"
          ]
        }
      ],
      "source": [
        "programming_dictionary = {\n",
        "    \"Bug\": \"An error in a program that prevents the program from running as expected.\",\n",
        "    \"Fuction\": \"A piece of code that you can easily call over and over again.\"\n",
        "    }\n",
        "\n",
        "print(programming_dictionary[\"Bug\"])"
      ]
    },
    {
      "cell_type": "code",
      "source": [
        "programming_dictionary[\"Loop\"] = \"The action of doing something over and over again.\"\n",
        "print(programming_dictionary[\"Loop\"])"
      ],
      "metadata": {
        "colab": {
          "base_uri": "https://localhost:8080/"
        },
        "id": "YqulZ7VIp9qB",
        "outputId": "c94ce4e9-b13e-4f88-87b4-5b883bc06994"
      },
      "execution_count": 3,
      "outputs": [
        {
          "output_type": "stream",
          "name": "stdout",
          "text": [
            "The action of doing something over and over again.\n"
          ]
        }
      ]
    },
    {
      "cell_type": "code",
      "source": [
        "programming_dictionary[\"Bug\"] = \"A moth in your computer.\"\n",
        "\n",
        "print(programming_dictionary[\"Bug\"])"
      ],
      "metadata": {
        "colab": {
          "base_uri": "https://localhost:8080/"
        },
        "id": "9ILo5ybZqgWa",
        "outputId": "b2bf9ee9-e636-410a-8731-cbeb5040e07d"
      },
      "execution_count": 4,
      "outputs": [
        {
          "output_type": "stream",
          "name": "stdout",
          "text": [
            "A moth in your computer.\n"
          ]
        }
      ]
    },
    {
      "cell_type": "code",
      "source": [
        "for key in programming_dictionary:\n",
        "  print(key)\n",
        "  # Value\n",
        "  print(programming_dictionary[key])"
      ],
      "metadata": {
        "colab": {
          "base_uri": "https://localhost:8080/"
        },
        "id": "dN2V8bWWrDyo",
        "outputId": "224f0b78-b465-43ae-b51e-b23b80aab8a6"
      },
      "execution_count": 7,
      "outputs": [
        {
          "output_type": "stream",
          "name": "stdout",
          "text": [
            "Bug\n",
            "A moth in your computer.\n",
            "Fuction\n",
            "A piece of code that you can easily call over and over again.\n",
            "Loop\n",
            "The action of doing something over and over again.\n"
          ]
        }
      ]
    },
    {
      "cell_type": "code",
      "source": [
        "student_scores = {\n",
        "    \"Harry\": 81,\n",
        "    \"Ron\": 78,\n",
        "    \"Hermione\": 99,\n",
        "    \"Draco\": 74,\n",
        "    \"Neville\": 62,\n",
        "}\n",
        "\n",
        "student_grades ={}\n",
        "\n",
        "for student_name in student_scores:\n",
        "  if 90 < student_scores[student_name] <= 100 :\n",
        "    student_grades[student_name] = \"Outstanding\"\n",
        "\n",
        "  elif 80 < student_scores[student_name] <= 90:\n",
        "    student_grades[student_name] = \"Exceed Expectations\"\n",
        "\n",
        "  elif 70 < student_scores[student_name] <= 80:\n",
        "    student_grades[student_name] = \"Acceptable\"\n",
        "\n",
        "  elif student_scores[student_name] <= 70:\n",
        "    student_grades[student_name] = \"Fail\"\n",
        "\n",
        "  else:\n",
        "    print(\"The score is out of order!!\")\n",
        "\n",
        "\n",
        "print(student_grades)"
      ],
      "metadata": {
        "colab": {
          "base_uri": "https://localhost:8080/"
        },
        "id": "do2K-mUqrY8n",
        "outputId": "b3cfd8d6-49cb-4d71-f184-290b4f6e95c2"
      },
      "execution_count": 3,
      "outputs": [
        {
          "output_type": "stream",
          "name": "stdout",
          "text": [
            "{'Harry': 'Exceed Expectations', 'Ron': 'Acceptable', 'Hermione': 'Outstanding', 'Draco': 'Acceptable', 'Neville': 'Fail'}\n"
          ]
        }
      ]
    },
    {
      "cell_type": "markdown",
      "source": [
        "## Nesting"
      ],
      "metadata": {
        "id": "OKHyfoQcPzXC"
      }
    },
    {
      "cell_type": "code",
      "source": [
        "capitals = {\n",
        "    \"France\": \"Paris\",\n",
        "    \"Germmany\": \"Berlin\",\n",
        "}\n",
        "\n",
        "# Nesting a list in a Dictionary\n",
        "\n",
        "travel_log ={\n",
        "    \"France\": [\"Paris\", \"Dijon\"],\n",
        "    \"Germmany\": [\"Berlin\", \"Hamburg\", \"Stuttgart\"]\n",
        "}\n",
        "\n"
      ],
      "metadata": {
        "id": "cLRGmB95Mt0y"
      },
      "execution_count": null,
      "outputs": []
    },
    {
      "cell_type": "code",
      "source": [
        "# Nesting a Dictionary in a Dictionary\n",
        "\n",
        "travel_log = {\n",
        "    \"France\": {\"cities\": [\"Paris\", \"Dijon\"],\n",
        "               \"total_visited\":12},\n",
        "    \"Germany\": {\"cities\":[\"Berlin\", \"Hamburg\", \"Stuttgart\"],\n",
        "                \"total_visited\":1}\n",
        "}"
      ],
      "metadata": {
        "id": "bAiFOGqrQj_3"
      },
      "execution_count": 5,
      "outputs": []
    },
    {
      "cell_type": "code",
      "source": [
        "# Nesting a Dictionary in a List\n",
        "travel_log = [\n",
        "    {\"country\" : \"France\",\n",
        "     \"cities\": [\"Paris\", \"Dijon\"],\n",
        "     \"total_visited\":12},\n",
        "    {\"country\" :\"Germany\" ,\n",
        "     \"cities\":[\"Berlin\", \"Hamburg\", \"Stuttgart\"],\n",
        "     \"total_visited\":1}\n",
        "]"
      ],
      "metadata": {
        "id": "dz62Qjd4RHbi"
      },
      "execution_count": 6,
      "outputs": []
    },
    {
      "cell_type": "markdown",
      "source": [
        "##Ex.2"
      ],
      "metadata": {
        "id": "7bbli0PnVHoy"
      }
    },
    {
      "cell_type": "code",
      "source": [
        "travel_log = [\n",
        "    {\"country\" : \"France\",\n",
        "     \"cities\": [\"Paris\", \"Dijon\"],\n",
        "     \"total_visited\":12},\n",
        "    {\"country\" :\"Germany\" ,\n",
        "     \"cities\":[\"Berlin\", \"Hamburg\", \"Stuttgart\"],\n",
        "     \"total_visited\":1}\n",
        "]\n",
        "\n",
        "def add_new_country(country_name,\n",
        "                    total_visited,\n",
        "                    cities):\n",
        "  travel_log.append(\n",
        "                    {\"country\":country_name,\n",
        "                     \"cities\":cities,\n",
        "                     \"total_visited\":total_visited})\n",
        "\n",
        "\n",
        "\n",
        "add_new_country(\"Russia\", 2, [\"Moscaw\", \"Saint Petersburg\"])\n",
        "\n",
        "print(travel_log)"
      ],
      "metadata": {
        "colab": {
          "base_uri": "https://localhost:8080/"
        },
        "id": "h16WZPY3SPbC",
        "outputId": "b25a3538-8f63-4f23-88d8-fbbd8eca3dda"
      },
      "execution_count": 8,
      "outputs": [
        {
          "output_type": "stream",
          "name": "stdout",
          "text": [
            "[{'country': 'France', 'cities': ['Paris', 'Dijon'], 'total_visited': 12}, {'country': 'Germany', 'cities': ['Berlin', 'Hamburg', 'Stuttgart'], 'total_visited': 1}, {'country': 'Russia', 'cities': ['Moscaw', 'Saint Petersburg'], 'total_visited': 2}]\n"
          ]
        }
      ]
    },
    {
      "cell_type": "code",
      "source": [
        "travel_log = [\n",
        "    {\"country\" : \"France\",\n",
        "     \"cities\": [\"Paris\", \"Dijon\"],\n",
        "     \"total_visited\":12},\n",
        "    {\"country\" :\"Germany\" ,\n",
        "     \"cities\":[\"Berlin\", \"Hamburg\", \"Stuttgart\"],\n",
        "     \"total_visited\":1}\n",
        "]\n",
        "\n",
        "def add_new_country(country_name,\n",
        "                    total_visited,\n",
        "                    cities):\n",
        "\n",
        "  new_country = {}\n",
        "  new_country[\"country\"] = country_name\n",
        "  new_country[\"cities\"] = cities\n",
        "  new_country[\"total_visitd\"] = total_visited\n",
        "  travel_log.append(new_country)\n",
        "\n",
        "\n",
        "\n",
        "add_new_country(\"Russia\", 2, [\"Moscaw\", \"Saint Petersburg\"])\n",
        "\n",
        "print(travel_log)"
      ],
      "metadata": {
        "colab": {
          "base_uri": "https://localhost:8080/"
        },
        "id": "RFdJaGNBV5es",
        "outputId": "d3a9cc23-6120-400c-f771-4138afa841f2"
      },
      "execution_count": 10,
      "outputs": [
        {
          "output_type": "stream",
          "name": "stdout",
          "text": [
            "[{'country': 'France', 'cities': ['Paris', 'Dijon'], 'total_visited': 12}, {'country': 'Germany', 'cities': ['Berlin', 'Hamburg', 'Stuttgart'], 'total_visited': 1}, {'country': 'Russia', 'cities': ['Moscaw', 'Saint Petersburg'], 'total_visitd': 2}]\n"
          ]
        }
      ]
    },
    {
      "cell_type": "markdown",
      "source": [
        "# Secret Auction"
      ],
      "metadata": {
        "id": "12o5QovCYlhP"
      }
    },
    {
      "cell_type": "code",
      "source": [
        "!pip install replit"
      ],
      "metadata": {
        "colab": {
          "base_uri": "https://localhost:8080/"
        },
        "id": "Hxh8dDHMY4K5",
        "outputId": "04d42b46-9e9f-4b53-ae44-0d45eab08d3c"
      },
      "execution_count": 12,
      "outputs": [
        {
          "output_type": "stream",
          "name": "stdout",
          "text": [
            "Collecting replit\n",
            "  Downloading replit-4.0.0-py3-none-any.whl (30 kB)\n",
            "Requirement already satisfied: Flask>=2.0.0 in /usr/local/lib/python3.10/dist-packages (from replit) (2.2.5)\n",
            "Requirement already satisfied: Werkzeug<4,>=2 in /usr/local/lib/python3.10/dist-packages (from replit) (3.0.3)\n",
            "Requirement already satisfied: aiohttp>=3.6.2 in /usr/local/lib/python3.10/dist-packages (from replit) (3.9.5)\n",
            "Collecting aiohttp-retry<3.0.0,>=2.8.3 (from replit)\n",
            "  Downloading aiohttp_retry-2.8.3-py3-none-any.whl (9.8 kB)\n",
            "Collecting protobuf<5.0.0,>=4.21.8 (from replit)\n",
            "  Downloading protobuf-4.25.3-cp37-abi3-manylinux2014_x86_64.whl (294 kB)\n",
            "\u001b[2K     \u001b[90m━━━━━━━━━━━━━━━━━━━━━━━━━━━━━━━━━━━━━━━━\u001b[0m \u001b[32m294.6/294.6 kB\u001b[0m \u001b[31m10.3 MB/s\u001b[0m eta \u001b[36m0:00:00\u001b[0m\n",
            "\u001b[?25hCollecting pyseto<2.0.0,>=1.6.11 (from replit)\n",
            "  Downloading pyseto-1.7.8-py3-none-any.whl (63 kB)\n",
            "\u001b[2K     \u001b[90m━━━━━━━━━━━━━━━━━━━━━━━━━━━━━━━━━━━━━━━━\u001b[0m \u001b[32m63.8/63.8 kB\u001b[0m \u001b[31m7.2 MB/s\u001b[0m eta \u001b[36m0:00:00\u001b[0m\n",
            "\u001b[?25hRequirement already satisfied: requests<3.0.0,>=2.25.1 in /usr/local/lib/python3.10/dist-packages (from replit) (2.31.0)\n",
            "Requirement already satisfied: typing_extensions<5,>=4 in /usr/local/lib/python3.10/dist-packages (from replit) (4.12.2)\n",
            "Requirement already satisfied: urllib3<3,>=1.26 in /usr/local/lib/python3.10/dist-packages (from replit) (2.0.7)\n",
            "Requirement already satisfied: aiosignal>=1.1.2 in /usr/local/lib/python3.10/dist-packages (from aiohttp>=3.6.2->replit) (1.3.1)\n",
            "Requirement already satisfied: attrs>=17.3.0 in /usr/local/lib/python3.10/dist-packages (from aiohttp>=3.6.2->replit) (23.2.0)\n",
            "Requirement already satisfied: frozenlist>=1.1.1 in /usr/local/lib/python3.10/dist-packages (from aiohttp>=3.6.2->replit) (1.4.1)\n",
            "Requirement already satisfied: multidict<7.0,>=4.5 in /usr/local/lib/python3.10/dist-packages (from aiohttp>=3.6.2->replit) (6.0.5)\n",
            "Requirement already satisfied: yarl<2.0,>=1.0 in /usr/local/lib/python3.10/dist-packages (from aiohttp>=3.6.2->replit) (1.9.4)\n",
            "Requirement already satisfied: async-timeout<5.0,>=4.0 in /usr/local/lib/python3.10/dist-packages (from aiohttp>=3.6.2->replit) (4.0.3)\n",
            "Requirement already satisfied: Jinja2>=3.0 in /usr/local/lib/python3.10/dist-packages (from Flask>=2.0.0->replit) (3.1.4)\n",
            "Requirement already satisfied: itsdangerous>=2.0 in /usr/local/lib/python3.10/dist-packages (from Flask>=2.0.0->replit) (2.2.0)\n",
            "Requirement already satisfied: click>=8.0 in /usr/local/lib/python3.10/dist-packages (from Flask>=2.0.0->replit) (8.1.7)\n",
            "Requirement already satisfied: argon2-cffi>=23.1.0 in /usr/local/lib/python3.10/dist-packages (from pyseto<2.0.0,>=1.6.11->replit) (23.1.0)\n",
            "Requirement already satisfied: cryptography<43,>=42.0.1 in /usr/local/lib/python3.10/dist-packages (from pyseto<2.0.0,>=1.6.11->replit) (42.0.8)\n",
            "Collecting iso8601<3.0.0,>=1.0.2 (from pyseto<2.0.0,>=1.6.11->replit)\n",
            "  Downloading iso8601-2.1.0-py3-none-any.whl (7.5 kB)\n",
            "Collecting pycryptodomex>=3.18.0 (from pyseto<2.0.0,>=1.6.11->replit)\n",
            "  Downloading pycryptodomex-3.20.0-cp35-abi3-manylinux_2_17_x86_64.manylinux2014_x86_64.whl (2.1 MB)\n",
            "\u001b[2K     \u001b[90m━━━━━━━━━━━━━━━━━━━━━━━━━━━━━━━━━━━━━━━━\u001b[0m \u001b[32m2.1/2.1 MB\u001b[0m \u001b[31m47.1 MB/s\u001b[0m eta \u001b[36m0:00:00\u001b[0m\n",
            "\u001b[?25hRequirement already satisfied: charset-normalizer<4,>=2 in /usr/local/lib/python3.10/dist-packages (from requests<3.0.0,>=2.25.1->replit) (3.3.2)\n",
            "Requirement already satisfied: idna<4,>=2.5 in /usr/local/lib/python3.10/dist-packages (from requests<3.0.0,>=2.25.1->replit) (3.7)\n",
            "Requirement already satisfied: certifi>=2017.4.17 in /usr/local/lib/python3.10/dist-packages (from requests<3.0.0,>=2.25.1->replit) (2024.6.2)\n",
            "Requirement already satisfied: MarkupSafe>=2.1.1 in /usr/local/lib/python3.10/dist-packages (from Werkzeug<4,>=2->replit) (2.1.5)\n",
            "Requirement already satisfied: argon2-cffi-bindings in /usr/local/lib/python3.10/dist-packages (from argon2-cffi>=23.1.0->pyseto<2.0.0,>=1.6.11->replit) (21.2.0)\n",
            "Requirement already satisfied: cffi>=1.12 in /usr/local/lib/python3.10/dist-packages (from cryptography<43,>=42.0.1->pyseto<2.0.0,>=1.6.11->replit) (1.16.0)\n",
            "Requirement already satisfied: pycparser in /usr/local/lib/python3.10/dist-packages (from cffi>=1.12->cryptography<43,>=42.0.1->pyseto<2.0.0,>=1.6.11->replit) (2.22)\n",
            "Installing collected packages: pycryptodomex, protobuf, iso8601, aiohttp-retry, pyseto, replit\n",
            "  Attempting uninstall: protobuf\n",
            "    Found existing installation: protobuf 3.20.3\n",
            "    Uninstalling protobuf-3.20.3:\n",
            "      Successfully uninstalled protobuf-3.20.3\n",
            "\u001b[31mERROR: pip's dependency resolver does not currently take into account all the packages that are installed. This behaviour is the source of the following dependency conflicts.\n",
            "tensorflow-metadata 1.15.0 requires protobuf<4.21,>=3.20.3; python_version < \"3.11\", but you have protobuf 4.25.3 which is incompatible.\u001b[0m\u001b[31m\n",
            "\u001b[0mSuccessfully installed aiohttp-retry-2.8.3 iso8601-2.1.0 protobuf-4.25.3 pycryptodomex-3.20.0 pyseto-1.7.8 replit-4.0.0\n"
          ]
        }
      ]
    },
    {
      "cell_type": "code",
      "source": [
        "logo = '''\n",
        "                         ___________\n",
        "                         \\         /\n",
        "                          )_______(\n",
        "                          |\"\"\"\"\"\"\"|_.-._,.---------.,_.-._\n",
        "                          |       | | |               | | ''-.\n",
        "                          |       |_| |_             _| |_..-'\n",
        "                          |_______| '-' `'---------'` '-'\n",
        "                          )\"\"\"\"\"\"\"(\n",
        "                         /_________\\\\\n",
        "                       .-------------.\n",
        "                      /_______________\\\\\n",
        "'''"
      ],
      "metadata": {
        "id": "PMQ_vAWGZlAY"
      },
      "execution_count": 16,
      "outputs": []
    },
    {
      "cell_type": "code",
      "source": [
        "from replit import clear"
      ],
      "metadata": {
        "id": "IeV-KiLIXNJp"
      },
      "execution_count": 17,
      "outputs": []
    },
    {
      "cell_type": "code",
      "source": [
        "print(logo)\n",
        "\n",
        "total_bids = []\n",
        "def add_bid(name, bid):\n",
        "  new_bid = {}\n",
        "  new_bid[\"name\"] = name\n",
        "  new_bid[\"bid\"] = bid\n",
        "\n",
        "  total_bids.append(new_bid)\n",
        "\n",
        "continue_bide = True\n",
        "\n",
        "while continue_bide:\n",
        "  name = input(\"please enter your name: \")\n",
        "  bid = int(input(\"please enter your bid: $\"))\n",
        "  keep_asking = input(\"Is there other user who wants to bid?(yes/no) \").lower()\n",
        "\n",
        "  add_bid(name, bid)\n",
        "\n",
        "  if keep_asking == \"no\":\n",
        "    continue_bide = False\n",
        "\n",
        "\n",
        "clear()\n",
        "\n",
        "max_bid = 0\n",
        "max_name = \"\"\n",
        "for i in total_bids:\n",
        "  # print(i['bid'])\n",
        "  if i[\"bid\"]> max_bid:\n",
        "    max_bid = i[\"bid\"]\n",
        "    max_name = i[\"name\"]\n",
        "\n",
        "print(max_name, max_bid)\n"
      ],
      "metadata": {
        "colab": {
          "base_uri": "https://localhost:8080/"
        },
        "id": "jYjMtS6NY2u4",
        "outputId": "156ce76b-f535-4978-ad6a-652d69b08548"
      },
      "execution_count": 31,
      "outputs": [
        {
          "output_type": "stream",
          "name": "stdout",
          "text": [
            "\n",
            "                         ___________\n",
            "                         \\         /\n",
            "                          )_______(\n",
            "                          |\"\"\"\"\"\"\"|_.-._,.---------.,_.-._\n",
            "                          |       | | |               | | ''-.\n",
            "                          |       |_| |_             _| |_..-'\n",
            "                          |_______| '-' `'---------'` '-'\n",
            "                          )\"\"\"\"\"\"\"(\n",
            "                         /_________\\\n",
            "                       .-------------.\n",
            "                      /_______________\\\n",
            "\n",
            "please enter your name: z\n",
            "please enter your bid: $1\n",
            "Is there other user who wants to bid?(yes/no) no\n",
            "\u001b[H\u001b[2Jz 1\n"
          ]
        }
      ]
    },
    {
      "cell_type": "code",
      "source": [
        "print(logo)\n",
        "\n",
        "total_bids = {}\n",
        "def add_bid(name, bid):\n",
        "  new_bid = {}\n",
        "  new_bid[\"name\"] = name\n",
        "  new_bid[\"bid\"] = bid\n",
        "\n",
        "  total_bids.append(new_bid)\n",
        "\n",
        "continue_bide = True\n",
        "\n",
        "while continue_bide:\n",
        "  name = input(\"please enter your name: \")\n",
        "  bid = int(input(\"please enter your bid: $\"))\n",
        "  keep_asking = input(\"Is there other user who wants to bid?(yes/no) \").lower()\n",
        "\n",
        "  total_bids[name] = bid\n",
        "\n",
        "\n",
        "  if keep_asking == \"no\":\n",
        "    continue_bide = False\n",
        "\n",
        "  elif keep_asking == \"yes\":\n",
        "    clear()\n",
        "\n",
        "\n",
        "\n",
        "\n",
        "max_bid = 0\n",
        "max_name = \"\"\n",
        "for key in total_bids:\n",
        "  if total_bids[key]> max_bid:\n",
        "    max_bid = total_bids[key]\n",
        "    max_name = key\n",
        "\n",
        "print(max_name, max_bid)\n"
      ],
      "metadata": {
        "colab": {
          "base_uri": "https://localhost:8080/"
        },
        "id": "Axo6IMJRZv-p",
        "outputId": "796736d0-84d0-4cf5-8950-b00a0ec4fca1"
      },
      "execution_count": 34,
      "outputs": [
        {
          "output_type": "stream",
          "name": "stdout",
          "text": [
            "\n",
            "                         ___________\n",
            "                         \\         /\n",
            "                          )_______(\n",
            "                          |\"\"\"\"\"\"\"|_.-._,.---------.,_.-._\n",
            "                          |       | | |               | | ''-.\n",
            "                          |       |_| |_             _| |_..-'\n",
            "                          |_______| '-' `'---------'` '-'\n",
            "                          )\"\"\"\"\"\"\"(\n",
            "                         /_________\\\n",
            "                       .-------------.\n",
            "                      /_______________\\\n",
            "\n",
            "please enter your name: n\n",
            "please enter your bid: $12\n",
            "Is there other user who wants to bid?(yes/no) yes\n",
            "\u001b[H\u001b[2Jplease enter your name: n\n",
            "please enter your bid: $12\n",
            "Is there other user who wants to bid?(yes/no) no\n",
            "n 12\n"
          ]
        }
      ]
    },
    {
      "cell_type": "code",
      "source": [],
      "metadata": {
        "id": "iWBEWKcsc_uT"
      },
      "execution_count": null,
      "outputs": []
    }
  ]
}