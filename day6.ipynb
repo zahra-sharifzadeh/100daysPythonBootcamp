{
  "nbformat": 4,
  "nbformat_minor": 0,
  "metadata": {
    "colab": {
      "provenance": [],
      "authorship_tag": "ABX9TyMx4LAGGUEz+83bDjLbgrIj",
      "include_colab_link": true
    },
    "kernelspec": {
      "name": "python3",
      "display_name": "Python 3"
    },
    "language_info": {
      "name": "python"
    }
  },
  "cells": [
    {
      "cell_type": "markdown",
      "metadata": {
        "id": "view-in-github",
        "colab_type": "text"
      },
      "source": [
        "<a href=\"https://colab.research.google.com/github/zahra-sharifzadeh/100daysPythonBootcamp/blob/main/day6.ipynb\" target=\"_parent\"><img src=\"https://colab.research.google.com/assets/colab-badge.svg\" alt=\"Open In Colab\"/></a>"
      ]
    },
    {
      "cell_type": "markdown",
      "source": [
        "#Function"
      ],
      "metadata": {
        "id": "9liz2DwY6UeS"
      }
    },
    {
      "cell_type": "code",
      "execution_count": null,
      "metadata": {
        "colab": {
          "base_uri": "https://localhost:8080/"
        },
        "id": "nrakc7FR8kDU",
        "outputId": "ef633da0-4ef0-4afb-f484-24dae9685325"
      },
      "outputs": [
        {
          "output_type": "stream",
          "name": "stdout",
          "text": [
            "Hello\n"
          ]
        },
        {
          "output_type": "execute_result",
          "data": {
            "text/plain": [
              "5"
            ]
          },
          "metadata": {},
          "execution_count": 3
        }
      ],
      "source": [
        "# Built in function\n",
        "print(\"Hello\")\n",
        "len(\"Hello\")"
      ]
    },
    {
      "cell_type": "code",
      "source": [
        "# defining the function\n",
        "def my_function():\n",
        "  print(\"Hello\")\n",
        "  print(\"Bye\")"
      ],
      "metadata": {
        "id": "Xr9dAX3r6u6t"
      },
      "execution_count": null,
      "outputs": []
    },
    {
      "cell_type": "code",
      "source": [
        "# Calling the function\n",
        "my_function()"
      ],
      "metadata": {
        "colab": {
          "base_uri": "https://localhost:8080/"
        },
        "id": "97LZYfgR7HeW",
        "outputId": "e910c083-e6a3-47dd-dc9f-cc6c633ef59c"
      },
      "execution_count": null,
      "outputs": [
        {
          "output_type": "stream",
          "name": "stdout",
          "text": [
            "Hello\n",
            "Bye\n"
          ]
        }
      ]
    },
    {
      "cell_type": "code",
      "source": [
        "#https://reeborg.ca/reeborg.html?lang=en&mode=python&menu=worlds%2Fmenus%2Freeborg_intro_en.json&name=Alone&url=worlds%2Ftutorial_en%2Falone.json\n",
        "\n",
        "# move()\n",
        "# move()\n",
        "# move()\n",
        "# turn_left()\n",
        "# move()\n",
        "# move()\n",
        "# move()\n",
        "\n",
        "\n"
      ],
      "metadata": {
        "id": "vwGalDGX7JTd"
      },
      "execution_count": null,
      "outputs": []
    },
    {
      "cell_type": "code",
      "source": [
        "\n",
        "# https://reeborg.ca/reeborg.html?lang=en&mode=python&menu=worlds%2Fmenus%2Freeborg_intro_en.json&name=Hurdle%201&url=worlds%2Ftutorial_en%2Fhurdle1.json\n",
        "\n",
        "# def turn_right():\n",
        "#     turn_left()\n",
        "#     turn_left()\n",
        "#     turn_left()\n",
        "\n",
        "\n",
        "# def turn_square():\n",
        "#     turn_left()\n",
        "#     turn_left()\n",
        "#     turn_left()\n",
        "#     turn_left()\n",
        "#     turn_left()\n",
        "\n",
        "# def move_left():\n",
        "#     turn_left()\n",
        "#     move()\n",
        "\n",
        "# def move_right():\n",
        "#     turn_right()\n",
        "#     move()\n",
        "\n",
        "\n",
        "\n",
        "# for i in range(6):\n",
        "#     move()\n",
        "#     move_left()\n",
        "#     move_right()\n",
        "#     move_right()\n",
        "#     turn_square()\n",
        "\n"
      ],
      "metadata": {
        "id": "profHjz4Oa_a"
      },
      "execution_count": null,
      "outputs": []
    },
    {
      "cell_type": "code",
      "source": [
        "# # https://reeborg.ca/reeborg.html?lang=en&mode=python&menu=worlds%2Fmenus%2Freeborg_intro_en.json&name=Hurdle%201&url=worlds%2Ftutorial_en%2Fhurdle1.json\n",
        "\n",
        "# def turn_right():\n",
        "#     turn_left()\n",
        "#     turn_left()\n",
        "#     turn_left()\n",
        "\n",
        "# def move_left():\n",
        "#     turn_left()\n",
        "#     move()\n",
        "\n",
        "# def move_right():\n",
        "#     turn_right()\n",
        "#     move()\n",
        "\n",
        "# def jump():\n",
        "#     move_left()\n",
        "#     move_right()\n",
        "#     move_right()\n",
        "\n",
        "\n",
        "\n",
        "# for i in range(6):\n",
        "#     move()\n",
        "#     jump()\n",
        "#     turn_left()\n"
      ],
      "metadata": {
        "id": "mD25WGs9V9Z9"
      },
      "execution_count": null,
      "outputs": []
    },
    {
      "cell_type": "code",
      "source": [
        "\n",
        "# def turn_right():\n",
        "#     turn_left()\n",
        "#     turn_left()\n",
        "#     turn_left()\n",
        "\n",
        "# def move_left():\n",
        "#     turn_left()\n",
        "#     move()\n",
        "\n",
        "# def move_right():\n",
        "#     turn_right()\n",
        "#     move()\n",
        "\n",
        "# def jump():\n",
        "#     move()\n",
        "#     move_left()\n",
        "#     move_right()\n",
        "#     move_right()\n",
        "#     turn_left()\n",
        "\n",
        "\n",
        "\n",
        "\n",
        "# for i in range(6):\n",
        "#     jump()\n",
        "\n",
        "\n"
      ],
      "metadata": {
        "id": "pSayIllBXbnJ"
      },
      "execution_count": null,
      "outputs": []
    },
    {
      "cell_type": "markdown",
      "source": [
        "# While Loop\n",
        "## Hundle 1 to 4"
      ],
      "metadata": {
        "id": "IOBXxVKmoiVn"
      }
    },
    {
      "cell_type": "code",
      "source": [
        "# #https://reeborg.ca/reeborg.html?lang=en&mode=python&menu=worlds%2Fmenus%2Freeborg_intro_en.json&name=Hurdle%202&url=worlds%2Ftutorial_en%2Fhurdle2.json\n",
        "\n",
        "# def turn_right():\n",
        "#     turn_left()\n",
        "#     turn_left()\n",
        "#     turn_left()\n",
        "\n",
        "# def move_left():\n",
        "#     turn_left()\n",
        "#     move()\n",
        "\n",
        "# def move_right():\n",
        "#     turn_right()\n",
        "#     move()\n",
        "\n",
        "# def jump():\n",
        "#     move()\n",
        "#     move_left()\n",
        "#     move_right()\n",
        "#     move_right()\n",
        "#     turn_left()\n",
        "\n",
        "\n",
        "\n",
        "\n",
        "# while not at_goal():\n",
        "#     jump()\n",
        "\n",
        "\n"
      ],
      "metadata": {
        "id": "CCwVonzTXc11"
      },
      "execution_count": null,
      "outputs": []
    },
    {
      "cell_type": "code",
      "source": [
        "# # https://reeborg.ca/reeborg.html?lang=en&mode=python&menu=worlds%2Fmenus%2Freeborg_intro_en.json&name=Hurdle%203&url=worlds%2Ftutorial_en%2Fhurdle3.json\n",
        "\n",
        "# def turn_right():\n",
        "#     turn_left()\n",
        "#     turn_left()\n",
        "#     turn_left()\n",
        "\n",
        "# def move_left():\n",
        "#     turn_left()\n",
        "#     move()\n",
        "\n",
        "# def move_right():\n",
        "#     turn_right()\n",
        "#     move()\n",
        "\n",
        "# def jump():\n",
        "#     move_left()\n",
        "#     move_right()\n",
        "#     move_right()\n",
        "#     turn_left()\n",
        "\n",
        "\n",
        "\n",
        "\n",
        "# while not at_goal():\n",
        "#     if front_is_clear():\n",
        "#         move()\n",
        "#     elif wall_in_front():\n",
        "#         jump()\n",
        "\n",
        "\n"
      ],
      "metadata": {
        "id": "PANJmSTPwH8i"
      },
      "execution_count": null,
      "outputs": []
    },
    {
      "cell_type": "code",
      "source": [
        "\n",
        "# #https://reeborg.ca/reeborg.html?lang=en&mode=python&menu=worlds%2Fmenus%2Freeborg_intro_en.json&name=Hurdle%204&url=worlds%2Ftutorial_en%2Fhurdle4.json\n",
        "\n",
        "# def turn_right():\n",
        "#     turn_left()\n",
        "#     turn_left()\n",
        "#     turn_left()\n",
        "\n",
        "# def move_left():\n",
        "#     turn_left()\n",
        "#     move()\n",
        "\n",
        "# def move_right():\n",
        "#     turn_right()\n",
        "#     move()\n",
        "\n",
        "# def jump():\n",
        "#     move_left()\n",
        "#     move_right()\n",
        "#     move_right()\n",
        "#     turn_left()\n",
        "\n",
        "\n",
        "# num = 0\n",
        "\n",
        "\n",
        "\n",
        "\n",
        "\n",
        "\n",
        "# while not at_goal():\n",
        "\n",
        "#     if front_is_clear() and num == 0:\n",
        "#         move()\n",
        "\n",
        "#     else:\n",
        "#         turn_left()\n",
        "#         while  not right_is_clear():\n",
        "#             move()\n",
        "#             num += 1\n",
        "\n",
        "#         turn_right()\n",
        "#         move()\n",
        "#         turn_right()\n",
        "#         for i in range(num):\n",
        "#             move()\n",
        "\n",
        "#         turn_left()\n",
        "#         num = 0\n",
        "\n"
      ],
      "metadata": {
        "id": "Os8yqKG1wtLA"
      },
      "execution_count": null,
      "outputs": []
    },
    {
      "cell_type": "code",
      "source": [
        "# https://reeborg.ca/reeborg.html?lang=en&mode=python&menu=worlds%2Fmenus%2Freeborg_intro_en.json&name=Hurdle%204&url=worlds%2Ftutorial_en%2Fhurdle4.json\n",
        "\n",
        "# def turn_right():\n",
        "#     turn_left()\n",
        "#     turn_left()\n",
        "#     turn_left()\n",
        "\n",
        "# def move_left():\n",
        "#     turn_left()\n",
        "#     move()\n",
        "\n",
        "# def move_right():\n",
        "#     turn_right()\n",
        "#     move()\n",
        "\n",
        "# def jump():\n",
        "#     turn_left()\n",
        "#     while wall_on_right():\n",
        "#         move()\n",
        "#     turn_right()\n",
        "#     move()\n",
        "#     turn_right()\n",
        "#     while front_is_clear():\n",
        "#         move()\n",
        "#     turn_left()\n",
        "\n",
        "\n",
        "\n",
        "\n",
        "\n",
        "# while not at_goal():\n",
        "\n",
        "#     if wall_in_front():\n",
        "#         jump()\n",
        "\n",
        "#     else:\n",
        "#         move()\n",
        "\n",
        "\n"
      ],
      "metadata": {
        "id": "Niy-cctePJ6k"
      },
      "execution_count": null,
      "outputs": []
    },
    {
      "cell_type": "markdown",
      "source": [
        "# MAZE"
      ],
      "metadata": {
        "id": "-L2pHNlRleoK"
      }
    },
    {
      "cell_type": "markdown",
      "source": [
        "## First solution"
      ],
      "metadata": {
        "id": "30R3wf2rlhKR"
      }
    },
    {
      "cell_type": "code",
      "source": [
        "# https://reeborg.ca/reeborg.html?lang=en&mode=python&menu=worlds%2Fmenus%2Freeborg_intro_en.json&name=Maze&url=worlds%2Ftutorial_en%2Fmaze1.json\n",
        "\n",
        "# def turn_right():\n",
        "#     turn_left()\n",
        "#     turn_left()\n",
        "#     turn_left()\n",
        "\n",
        "# def move_left():\n",
        "#     turn_left()\n",
        "#     move()\n",
        "\n",
        "# def move_right():\n",
        "#     turn_right()\n",
        "#     move()\n",
        "\n",
        "# def jump():\n",
        "#     turn_left()\n",
        "#     while wall_on_right():\n",
        "#         move()\n",
        "#     turn_right()\n",
        "#     move()\n",
        "#     turn_right()\n",
        "#     while front_is_clear():\n",
        "#         move()\n",
        "#     turn_left()\n",
        "\n",
        "\n",
        "\n",
        "\n",
        "\n",
        "# while not at_goal():\n",
        "#     if right_is_clear():\n",
        "#         turn_right()\n",
        "#         move()\n",
        "\n",
        "#     elif front_is_clear():\n",
        "#         move()\n",
        "\n",
        "#     else:\n",
        "#         turn_left()\n",
        ""
      ],
      "metadata": {
        "id": "2Y1tBEx0PSVA"
      },
      "execution_count": null,
      "outputs": []
    },
    {
      "cell_type": "markdown",
      "source": [
        "##Second solution"
      ],
      "metadata": {
        "id": "o9cM9HxGlpGr"
      }
    },
    {
      "cell_type": "code",
      "source": [
        "# ## https://reeborg.ca/reeborg.html?lang=en&mode=python&menu=worlds%2Fmenus%2Freeborg_intro_en.json&name=Maze&url=worlds%2Ftutorial_en%2Fmaze1.json\n",
        "\n",
        "# def turn_right():\n",
        "#     turn_left()\n",
        "#     turn_left()\n",
        "#     turn_left()\n",
        "\n",
        "# def move_left():\n",
        "#     turn_left()\n",
        "#     move()\n",
        "\n",
        "# def move_right():\n",
        "#     turn_right()\n",
        "#     move()\n",
        "\n",
        "# def jump():\n",
        "#     turn_left()\n",
        "#     while wall_on_right():\n",
        "#         move()\n",
        "#     turn_right()\n",
        "#     move()\n",
        "#     turn_right()\n",
        "#     while front_is_clear():\n",
        "#         move()\n",
        "#     turn_left()\n",
        "\n",
        "\n",
        "\n",
        "# while front_is_clear():\n",
        "#     move()\n",
        "\n",
        "# turn_left()\n",
        "\n",
        "# while not at_goal():\n",
        "#     if right_is_clear():\n",
        "#         turn_right()\n",
        "#         move()\n",
        "\n",
        "#     elif front_is_clear():\n",
        "#         move()\n",
        "\n",
        "#     else:\n",
        "#         turn_left()\n",
        "\n"
      ],
      "metadata": {
        "id": "Jl_EyKZDloj-"
      },
      "execution_count": null,
      "outputs": []
    }
  ]
}