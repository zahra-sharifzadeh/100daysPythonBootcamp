{
  "nbformat": 4,
  "nbformat_minor": 0,
  "metadata": {
    "colab": {
      "provenance": [],
      "authorship_tag": "ABX9TyOjjGdW/PytwVVo/F6LCGqf",
      "include_colab_link": true
    },
    "kernelspec": {
      "name": "python3",
      "display_name": "Python 3"
    },
    "language_info": {
      "name": "python"
    }
  },
  "cells": [
    {
      "cell_type": "markdown",
      "metadata": {
        "id": "view-in-github",
        "colab_type": "text"
      },
      "source": [
        "<a href=\"https://colab.research.google.com/github/zahra-sharifzadeh/100daysPythonBootcamp/blob/main/day10.ipynb\" target=\"_parent\"><img src=\"https://colab.research.google.com/assets/colab-badge.svg\" alt=\"Open In Colab\"/></a>"
      ]
    },
    {
      "cell_type": "markdown",
      "source": [
        "#Calculator"
      ],
      "metadata": {
        "id": "ns03LipA40j1"
      }
    },
    {
      "cell_type": "code",
      "execution_count": 1,
      "metadata": {
        "colab": {
          "base_uri": "https://localhost:8080/"
        },
        "id": "LuKS6LaV4WIh",
        "outputId": "a4b8068f-8de2-43de-fa95-421e1d20226f"
      },
      "outputs": [
        {
          "output_type": "stream",
          "name": "stdout",
          "text": [
            "Zahra Sharifzadeh\n"
          ]
        }
      ],
      "source": [
        "def format_name(f_name, l_name):\n",
        "  formated_f_name = f_name.title()\n",
        "  formated_l_name = l_name.title()\n",
        "  print(f\"{formated_f_name} {formated_l_name}\")\n",
        "\n",
        "\n",
        "format_name(\"zahra\", \"sharifzadeh\")\n",
        ""
      ]
    },
    {
      "cell_type": "code",
      "source": [
        "def format_name(f_name, l_name):\n",
        "  formated_f_name = f_name.title()\n",
        "  formated_l_name = l_name.title()\n",
        "  return f\"{formated_f_name} {formated_l_name}\"\n",
        "\n",
        "print(format_name(\"zahra\", \"sharifzadeh\"))"
      ],
      "metadata": {
        "colab": {
          "base_uri": "https://localhost:8080/"
        },
        "id": "49Ny2wEI6hiq",
        "outputId": "dc4bb638-9477-45e0-d71b-42017341ab7a"
      },
      "execution_count": 2,
      "outputs": [
        {
          "output_type": "stream",
          "name": "stdout",
          "text": [
            "Zahra Sharifzadeh\n"
          ]
        }
      ]
    },
    {
      "cell_type": "markdown",
      "source": [
        "#Leap year"
      ],
      "metadata": {
        "id": "t2tjceUM8PIa"
      }
    },
    {
      "cell_type": "code",
      "source": [
        "def is_leap(year):\n",
        "  if year % 4 == 0:\n",
        "    if year % 100 == 0:\n",
        "      if year % 400 == 0:\n",
        "        # print(\"Leap year.\")\n",
        "        return True\n",
        "      else:\n",
        "        # print(\"Not leap year.\")\n",
        "        return False\n",
        "    else:\n",
        "      # print(\"Leap year.\")\n",
        "      return True\n",
        "  else:\n",
        "    # print(\"Not leap year.\")\n",
        "    return False\n",
        "\n",
        "\n",
        "def days_in_month(year, month):\n",
        "  month_days = [31, 28, 31, 30, 31, 30, 31, 31, 30, 31, 30, 31]\n",
        "  if is_leap(year) and month==2:\n",
        "    return 29\n",
        "  else:\n",
        "     return month_days[month-1]\n",
        "\n",
        "#🚨 Do NOT change any of the code below\n",
        "year = int(input(\"Enter a year: \"))\n",
        "month = int(input(\"Enter a month: \"))\n",
        "days = days_in_month(year, month)\n",
        "print(days)\n",
        "\n"
      ],
      "metadata": {
        "colab": {
          "base_uri": "https://localhost:8080/"
        },
        "id": "f9nq9BTO6rOn",
        "outputId": "34ab2186-a92a-41ac-9d28-b462e8bc073f"
      },
      "execution_count": 6,
      "outputs": [
        {
          "output_type": "stream",
          "name": "stdout",
          "text": [
            "Enter a year: 2021\n",
            "Enter a month: 2\n",
            "28\n"
          ]
        }
      ]
    },
    {
      "cell_type": "markdown",
      "source": [
        "# Doc String"
      ],
      "metadata": {
        "id": "-Bt9hgKy-DV_"
      }
    },
    {
      "cell_type": "code",
      "source": [
        "def format_name(f_name, l_name):\n",
        "  \"\"\"Take a first and last name and format it to return the\n",
        "  title case version of the name.\"\"\"\n",
        "  formated_f_name = f_name.title()\n",
        "  formated_l_name = l_name.title()\n",
        "  return f\"{formated_f_name} {formated_l_name}\"\n",
        "\n",
        "print(format_name(\"zahra\", \"sharifzadeh\"))"
      ],
      "metadata": {
        "colab": {
          "base_uri": "https://localhost:8080/"
        },
        "id": "fAAzNOYT9Wzz",
        "outputId": "461a2a0d-e500-4980-de9b-d2a9ed528edb"
      },
      "execution_count": 8,
      "outputs": [
        {
          "output_type": "stream",
          "name": "stdout",
          "text": [
            "Zahra Sharifzadeh\n"
          ]
        }
      ]
    },
    {
      "cell_type": "code",
      "source": [
        "logo = \"\"\"\n",
        " _____________________\n",
        "|  _________________  |\n",
        "| | Pythonista   0. | |  .----------------.  .----------------.  .----------------.  .----------------.\n",
        "| |_________________| | | .--------------. || .--------------. || .--------------. || .--------------. |\n",
        "|  ___ ___ ___   ___  | | |     ______   | || |      __      | || |   _____      | || |     ______   | |\n",
        "| | 7 | 8 | 9 | | + | | | |   .' ___  |  | || |     /  \\     | || |  |_   _|     | || |   .' ___  |  | |\n",
        "| |___|___|___| |___| | | |  / .'   \\_|  | || |    / /\\ \\    | || |    | |       | || |  / .'   \\_|  | |\n",
        "| | 4 | 5 | 6 | | - | | | |  | |         | || |   / ____ \\   | || |    | |   _   | || |  | |         | |\n",
        "| |___|___|___| |___| | | |  \\ `.___.'\\  | || | _/ /    \\ \\_ | || |   _| |__/ |  | || |  \\ `.___.'\\  | |\n",
        "| | 1 | 2 | 3 | | x | | | |   `._____.'  | || ||____|  |____|| || |  |________|  | || |   `._____.'  | |\n",
        "| |___|___|___| |___| | | |              | || |              | || |              | || |              | |\n",
        "| | . | 0 | = | | / | | | '--------------' || '--------------' || '--------------' || '--------------' |\n",
        "| |___|___|___| |___| |  '----------------'  '----------------'  '----------------'  '----------------'\n",
        "|_____________________|\n",
        "\"\"\""
      ],
      "metadata": {
        "id": "R4Oc38GZ-VPu"
      },
      "execution_count": 11,
      "outputs": []
    },
    {
      "cell_type": "code",
      "source": [
        "def add(n1, n2):\n",
        "  return n1 + n2\n",
        "\n",
        "def subtract(n1, n2):\n",
        "  return n1 - n2\n",
        "\n",
        "def multiply(n1, n2):\n",
        "  return n1 * n2\n",
        "\n",
        "def divide(n1, n2):\n",
        "  return n1/n2\n",
        "\n",
        "\n",
        "\n",
        "operations = {\n",
        "    \"+\": add,\n",
        "    \"-\": subtract,\n",
        "    \"*\": multiply,\n",
        "    \"/\": divide\n",
        "}\n",
        "\n",
        "num1 = int(input(\"What's the first number?: \"))\n",
        "\n",
        "for symbol in operations:\n",
        "  print(symbol)\n",
        "\n",
        "operation_symbol = input(\"Pick a operation from the line above: \")\n",
        "\n",
        "num2 = int(input(\"What's the second number?: \"))\n",
        "\n",
        "input_calculator_function = operations[operation_symbol]\n",
        "\n",
        "answer = input_calculator_function(num1, num2)\n",
        "\n",
        "print(f\"{num1} {operation_symbol} {num2} = {answer}\")"
      ],
      "metadata": {
        "colab": {
          "base_uri": "https://localhost:8080/"
        },
        "id": "tqwndMVW_1ww",
        "outputId": "d70a3339-b016-42dd-db08-1d2b99861ea7"
      },
      "execution_count": 7,
      "outputs": [
        {
          "output_type": "stream",
          "name": "stdout",
          "text": [
            "What's the first number?: 4\n",
            "+\n",
            "-\n",
            "*\n",
            "/\n",
            "Pick a operation from the line above: *\n",
            "What's the second number?: 5\n",
            "4 * 5 = 20\n"
          ]
        }
      ]
    },
    {
      "cell_type": "code",
      "source": [
        "def add(n1, n2):\n",
        "  return n1 + n2\n",
        "\n",
        "def subtract(n1, n2):\n",
        "  return n1 - n2\n",
        "\n",
        "def multiply(n1, n2):\n",
        "  return n1 * n2\n",
        "\n",
        "def divide(n1, n2):\n",
        "  return n1/n2\n",
        "\n",
        "\n",
        "\n",
        "operations = {\n",
        "    \"+\": add,\n",
        "    \"-\": subtract,\n",
        "    \"*\": multiply,\n",
        "    \"/\": divide\n",
        "}\n",
        "\n",
        "keep_calculating = True\n",
        "\n",
        "num1 = int(input(\"What's the first number?: \"))\n",
        "while keep_calculating:\n",
        "  for symbol in operations:\n",
        "    print(symbol)\n",
        "\n",
        "  operation_symbol = input(\"Pick a operation from the line above: \")\n",
        "\n",
        "  num2 = int(input(\"What's the second number?: \"))\n",
        "\n",
        "  input_calculator_function = operations[operation_symbol]\n",
        "\n",
        "  answer = input_calculator_function(num1, num2)\n",
        "\n",
        "  print(f\"{num1} {operation_symbol} {num2} = {answer}\")\n",
        "\n",
        "  keep_going = input(f\"do you want to keep calculating with {input_calculator_function(num1, num2)}? (y/n): \")\n",
        "\n",
        "  if keep_going == 'y':\n",
        "    num1 = answer\n",
        "\n",
        "  else:\n",
        "    keep_calculating = False"
      ],
      "metadata": {
        "colab": {
          "base_uri": "https://localhost:8080/"
        },
        "id": "Sf2TIbPrSjd7",
        "outputId": "559b15c6-c405-4ea7-da66-f800b7d311fc"
      },
      "execution_count": 8,
      "outputs": [
        {
          "name": "stdout",
          "output_type": "stream",
          "text": [
            "What's the first number?: 1\n",
            "+\n",
            "-\n",
            "*\n",
            "/\n",
            "Pick a operation from the line above: *\n",
            "What's the second number?: 2\n",
            "1 * 2 = 2\n",
            "do you want to keep calculating with 2? (y/n): y\n",
            "+\n",
            "-\n",
            "*\n",
            "/\n",
            "Pick a operation from the line above: +\n",
            "What's the second number?: 12\n",
            "2 + 12 = 14\n",
            "do you want to keep calculating with 14? (y/n): y\n",
            "+\n",
            "-\n",
            "*\n",
            "/\n",
            "Pick a operation from the line above: /\n",
            "What's the second number?: 6\n",
            "14 / 6 = 2.3333333333333335\n",
            "do you want to keep calculating with 2.3333333333333335? (y/n): n\n"
          ]
        }
      ]
    },
    {
      "cell_type": "code",
      "source": [
        "def add(n1, n2):\n",
        "  return n1 + n2\n",
        "\n",
        "def subtract(n1, n2):\n",
        "  return n1 - n2\n",
        "\n",
        "def multiply(n1, n2):\n",
        "  return n1 * n2\n",
        "\n",
        "def divide(n1, n2):\n",
        "  return n1/n2\n",
        "\n",
        "\n",
        "\n",
        "operations = {\n",
        "    \"+\": add,\n",
        "    \"-\": subtract,\n",
        "    \"*\": multiply,\n",
        "    \"/\": divide\n",
        "}\n",
        "def calculator():\n",
        "  print(logo)\n",
        "  keep_calculating = True\n",
        "\n",
        "  num1 = float(input(\"What's the first number?: \"))\n",
        "  while keep_calculating:\n",
        "    for symbol in operations:\n",
        "      print(symbol)\n",
        "\n",
        "    operation_symbol = input(\"Pick a operation from the line above: \")\n",
        "\n",
        "    num2 = float(input(\"What's the second number?: \"))\n",
        "\n",
        "    input_calculator_function = operations[operation_symbol]\n",
        "\n",
        "    answer = input_calculator_function(num1, num2)\n",
        "\n",
        "    print(f\"{num1} {operation_symbol} {num2} = {answer}\")\n",
        "\n",
        "    keep_going = input(f\"do you want to keep calculating with {input_calculator_function(num1, num2)} or start new claculation? (y/n): \")\n",
        "\n",
        "    if keep_going == 'y':\n",
        "      num1 = answer\n",
        "\n",
        "    else:\n",
        "      keep_calculating = False\n",
        "      calculator()\n",
        "\n",
        "\n",
        "calculator()"
      ],
      "metadata": {
        "colab": {
          "base_uri": "https://localhost:8080/",
          "height": 1000
        },
        "id": "njbM-wiGW8Ii",
        "outputId": "52d8e74a-b402-482b-ad64-2859d1373f4b"
      },
      "execution_count": 13,
      "outputs": [
        {
          "output_type": "stream",
          "name": "stdout",
          "text": [
            "\n",
            " _____________________\n",
            "|  _________________  |\n",
            "| | Pythonista   0. | |  .----------------.  .----------------.  .----------------.  .----------------. \n",
            "| |_________________| | | .--------------. || .--------------. || .--------------. || .--------------. |\n",
            "|  ___ ___ ___   ___  | | |     ______   | || |      __      | || |   _____      | || |     ______   | |\n",
            "| | 7 | 8 | 9 | | + | | | |   .' ___  |  | || |     /  \\     | || |  |_   _|     | || |   .' ___  |  | |\n",
            "| |___|___|___| |___| | | |  / .'   \\_|  | || |    / /\\ \\    | || |    | |       | || |  / .'   \\_|  | |\n",
            "| | 4 | 5 | 6 | | - | | | |  | |         | || |   / ____ \\   | || |    | |   _   | || |  | |         | |\n",
            "| |___|___|___| |___| | | |  \\ `.___.'\\  | || | _/ /    \\ \\_ | || |   _| |__/ |  | || |  \\ `.___.'\\  | |\n",
            "| | 1 | 2 | 3 | | x | | | |   `._____.'  | || ||____|  |____|| || |  |________|  | || |   `._____.'  | |\n",
            "| |___|___|___| |___| | | |              | || |              | || |              | || |              | |\n",
            "| | . | 0 | = | | / | | | '--------------' || '--------------' || '--------------' || '--------------' |\n",
            "| |___|___|___| |___| |  '----------------'  '----------------'  '----------------'  '----------------' \n",
            "|_____________________|\n",
            "\n",
            "What's the first number?: 3.5\n",
            "+\n",
            "-\n",
            "*\n",
            "/\n",
            "Pick a operation from the line above: +\n",
            "What's the second number?: 4.5\n",
            "3.5 + 4.5 = 8.0\n",
            "do you want to keep calculating with 8.0 or start new claculation? (y/n): n\n",
            "\n",
            " _____________________\n",
            "|  _________________  |\n",
            "| | Pythonista   0. | |  .----------------.  .----------------.  .----------------.  .----------------. \n",
            "| |_________________| | | .--------------. || .--------------. || .--------------. || .--------------. |\n",
            "|  ___ ___ ___   ___  | | |     ______   | || |      __      | || |   _____      | || |     ______   | |\n",
            "| | 7 | 8 | 9 | | + | | | |   .' ___  |  | || |     /  \\     | || |  |_   _|     | || |   .' ___  |  | |\n",
            "| |___|___|___| |___| | | |  / .'   \\_|  | || |    / /\\ \\    | || |    | |       | || |  / .'   \\_|  | |\n",
            "| | 4 | 5 | 6 | | - | | | |  | |         | || |   / ____ \\   | || |    | |   _   | || |  | |         | |\n",
            "| |___|___|___| |___| | | |  \\ `.___.'\\  | || | _/ /    \\ \\_ | || |   _| |__/ |  | || |  \\ `.___.'\\  | |\n",
            "| | 1 | 2 | 3 | | x | | | |   `._____.'  | || ||____|  |____|| || |  |________|  | || |   `._____.'  | |\n",
            "| |___|___|___| |___| | | |              | || |              | || |              | || |              | |\n",
            "| | . | 0 | = | | / | | | '--------------' || '--------------' || '--------------' || '--------------' |\n",
            "| |___|___|___| |___| |  '----------------'  '----------------'  '----------------'  '----------------' \n",
            "|_____________________|\n",
            "\n"
          ]
        },
        {
          "output_type": "error",
          "ename": "KeyboardInterrupt",
          "evalue": "Interrupted by user",
          "traceback": [
            "\u001b[0;31m---------------------------------------------------------------------------\u001b[0m",
            "\u001b[0;31mKeyboardInterrupt\u001b[0m                         Traceback (most recent call last)",
            "\u001b[0;32m<ipython-input-13-a6d63b710e91>\u001b[0m in \u001b[0;36m<cell line: 50>\u001b[0;34m()\u001b[0m\n\u001b[1;32m     48\u001b[0m \u001b[0;34m\u001b[0m\u001b[0m\n\u001b[1;32m     49\u001b[0m \u001b[0;34m\u001b[0m\u001b[0m\n\u001b[0;32m---> 50\u001b[0;31m \u001b[0mcalculator\u001b[0m\u001b[0;34m(\u001b[0m\u001b[0;34m)\u001b[0m\u001b[0;34m\u001b[0m\u001b[0;34m\u001b[0m\u001b[0m\n\u001b[0m",
            "\u001b[0;32m<ipython-input-13-a6d63b710e91>\u001b[0m in \u001b[0;36mcalculator\u001b[0;34m()\u001b[0m\n\u001b[1;32m     45\u001b[0m     \u001b[0;32melse\u001b[0m\u001b[0;34m:\u001b[0m\u001b[0;34m\u001b[0m\u001b[0;34m\u001b[0m\u001b[0m\n\u001b[1;32m     46\u001b[0m       \u001b[0mkeep_calculating\u001b[0m \u001b[0;34m=\u001b[0m \u001b[0;32mFalse\u001b[0m\u001b[0;34m\u001b[0m\u001b[0;34m\u001b[0m\u001b[0m\n\u001b[0;32m---> 47\u001b[0;31m       \u001b[0mcalculator\u001b[0m\u001b[0;34m(\u001b[0m\u001b[0;34m)\u001b[0m\u001b[0;34m\u001b[0m\u001b[0;34m\u001b[0m\u001b[0m\n\u001b[0m\u001b[1;32m     48\u001b[0m \u001b[0;34m\u001b[0m\u001b[0m\n\u001b[1;32m     49\u001b[0m \u001b[0;34m\u001b[0m\u001b[0m\n",
            "\u001b[0;32m<ipython-input-13-a6d63b710e91>\u001b[0m in \u001b[0;36mcalculator\u001b[0;34m()\u001b[0m\n\u001b[1;32m     23\u001b[0m   \u001b[0mkeep_calculating\u001b[0m \u001b[0;34m=\u001b[0m \u001b[0;32mTrue\u001b[0m\u001b[0;34m\u001b[0m\u001b[0;34m\u001b[0m\u001b[0m\n\u001b[1;32m     24\u001b[0m \u001b[0;34m\u001b[0m\u001b[0m\n\u001b[0;32m---> 25\u001b[0;31m   \u001b[0mnum1\u001b[0m \u001b[0;34m=\u001b[0m \u001b[0mfloat\u001b[0m\u001b[0;34m(\u001b[0m\u001b[0minput\u001b[0m\u001b[0;34m(\u001b[0m\u001b[0;34m\"What's the first number?: \"\u001b[0m\u001b[0;34m)\u001b[0m\u001b[0;34m)\u001b[0m\u001b[0;34m\u001b[0m\u001b[0;34m\u001b[0m\u001b[0m\n\u001b[0m\u001b[1;32m     26\u001b[0m   \u001b[0;32mwhile\u001b[0m \u001b[0mkeep_calculating\u001b[0m\u001b[0;34m:\u001b[0m\u001b[0;34m\u001b[0m\u001b[0;34m\u001b[0m\u001b[0m\n\u001b[1;32m     27\u001b[0m     \u001b[0;32mfor\u001b[0m \u001b[0msymbol\u001b[0m \u001b[0;32min\u001b[0m \u001b[0moperations\u001b[0m\u001b[0;34m:\u001b[0m\u001b[0;34m\u001b[0m\u001b[0;34m\u001b[0m\u001b[0m\n",
            "\u001b[0;32m/usr/local/lib/python3.10/dist-packages/ipykernel/kernelbase.py\u001b[0m in \u001b[0;36mraw_input\u001b[0;34m(self, prompt)\u001b[0m\n\u001b[1;32m    849\u001b[0m                 \u001b[0;34m\"raw_input was called, but this frontend does not support input requests.\"\u001b[0m\u001b[0;34m\u001b[0m\u001b[0;34m\u001b[0m\u001b[0m\n\u001b[1;32m    850\u001b[0m             )\n\u001b[0;32m--> 851\u001b[0;31m         return self._input_request(str(prompt),\n\u001b[0m\u001b[1;32m    852\u001b[0m             \u001b[0mself\u001b[0m\u001b[0;34m.\u001b[0m\u001b[0m_parent_ident\u001b[0m\u001b[0;34m,\u001b[0m\u001b[0;34m\u001b[0m\u001b[0;34m\u001b[0m\u001b[0m\n\u001b[1;32m    853\u001b[0m             \u001b[0mself\u001b[0m\u001b[0;34m.\u001b[0m\u001b[0m_parent_header\u001b[0m\u001b[0;34m,\u001b[0m\u001b[0;34m\u001b[0m\u001b[0;34m\u001b[0m\u001b[0m\n",
            "\u001b[0;32m/usr/local/lib/python3.10/dist-packages/ipykernel/kernelbase.py\u001b[0m in \u001b[0;36m_input_request\u001b[0;34m(self, prompt, ident, parent, password)\u001b[0m\n\u001b[1;32m    893\u001b[0m             \u001b[0;32mexcept\u001b[0m \u001b[0mKeyboardInterrupt\u001b[0m\u001b[0;34m:\u001b[0m\u001b[0;34m\u001b[0m\u001b[0;34m\u001b[0m\u001b[0m\n\u001b[1;32m    894\u001b[0m                 \u001b[0;31m# re-raise KeyboardInterrupt, to truncate traceback\u001b[0m\u001b[0;34m\u001b[0m\u001b[0;34m\u001b[0m\u001b[0m\n\u001b[0;32m--> 895\u001b[0;31m                 \u001b[0;32mraise\u001b[0m \u001b[0mKeyboardInterrupt\u001b[0m\u001b[0;34m(\u001b[0m\u001b[0;34m\"Interrupted by user\"\u001b[0m\u001b[0;34m)\u001b[0m \u001b[0;32mfrom\u001b[0m \u001b[0;32mNone\u001b[0m\u001b[0;34m\u001b[0m\u001b[0;34m\u001b[0m\u001b[0m\n\u001b[0m\u001b[1;32m    896\u001b[0m             \u001b[0;32mexcept\u001b[0m \u001b[0mException\u001b[0m \u001b[0;32mas\u001b[0m \u001b[0me\u001b[0m\u001b[0;34m:\u001b[0m\u001b[0;34m\u001b[0m\u001b[0;34m\u001b[0m\u001b[0m\n\u001b[1;32m    897\u001b[0m                 \u001b[0mself\u001b[0m\u001b[0;34m.\u001b[0m\u001b[0mlog\u001b[0m\u001b[0;34m.\u001b[0m\u001b[0mwarning\u001b[0m\u001b[0;34m(\u001b[0m\u001b[0;34m\"Invalid Message:\"\u001b[0m\u001b[0;34m,\u001b[0m \u001b[0mexc_info\u001b[0m\u001b[0;34m=\u001b[0m\u001b[0;32mTrue\u001b[0m\u001b[0;34m)\u001b[0m\u001b[0;34m\u001b[0m\u001b[0;34m\u001b[0m\u001b[0m\n",
            "\u001b[0;31mKeyboardInterrupt\u001b[0m: Interrupted by user"
          ]
        }
      ]
    },
    {
      "cell_type": "code",
      "source": [],
      "metadata": {
        "id": "NH8wdA55YHM8"
      },
      "execution_count": null,
      "outputs": []
    }
  ]
}