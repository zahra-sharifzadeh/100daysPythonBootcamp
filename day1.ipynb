{
  "nbformat": 4,
  "nbformat_minor": 0,
  "metadata": {
    "colab": {
      "provenance": [],
      "authorship_tag": "ABX9TyNWWsHF65Grgo0CGwNY0SJz",
      "include_colab_link": true
    },
    "kernelspec": {
      "name": "python3",
      "display_name": "Python 3"
    },
    "language_info": {
      "name": "python"
    }
  },
  "cells": [
    {
      "cell_type": "markdown",
      "metadata": {
        "id": "view-in-github",
        "colab_type": "text"
      },
      "source": [
        "<a href=\"https://colab.research.google.com/github/zahra-sharifzadeh/100daysPythonBootcamp/blob/main/day1.ipynb\" target=\"_parent\"><img src=\"https://colab.research.google.com/assets/colab-badge.svg\" alt=\"Open In Colab\"/></a>"
      ]
    },
    {
      "cell_type": "markdown",
      "source": [
        "# Class maretial"
      ],
      "metadata": {
        "id": "N-gBh-oN2K1y"
      }
    },
    {
      "cell_type": "code",
      "execution_count": 1,
      "metadata": {
        "colab": {
          "base_uri": "https://localhost:8080/"
        },
        "id": "zCicVGIYwCpE",
        "outputId": "164628fd-16ae-4dd8-f57e-374bfa9d0efd"
      },
      "outputs": [
        {
          "output_type": "stream",
          "name": "stdout",
          "text": [
            "hello world\n"
          ]
        }
      ],
      "source": [
        "print(\"hello world!\")"
      ]
    },
    {
      "cell_type": "code",
      "source": [
        "print(\"Day 1 - Python Print function\")\n",
        "print(\"The function is declared like this:\")\n",
        "print(\"print('what to print')\")"
      ],
      "metadata": {
        "colab": {
          "base_uri": "https://localhost:8080/"
        },
        "id": "ElE5Z9FqxU3I",
        "outputId": "57985585-01f7-49b6-d466-29b39d1f7eff"
      },
      "execution_count": 2,
      "outputs": [
        {
          "output_type": "stream",
          "name": "stdout",
          "text": [
            "Day 1 - Python Print function\n",
            "The function is declared like this:\n",
            "print('what to print')\n"
          ]
        }
      ]
    },
    {
      "cell_type": "code",
      "source": [
        "print(\"Hello world!\\nHello World!\\nHello world!\")"
      ],
      "metadata": {
        "colab": {
          "base_uri": "https://localhost:8080/"
        },
        "id": "aXyrmzP_1eKt",
        "outputId": "05b4f30a-00cc-4f71-e2c5-d28ad0e58596"
      },
      "execution_count": 3,
      "outputs": [
        {
          "output_type": "stream",
          "name": "stdout",
          "text": [
            "Hello world!\n",
            "Hello World!\n",
            "Hello world!\n"
          ]
        }
      ]
    },
    {
      "cell_type": "markdown",
      "source": [
        "concatenation"
      ],
      "metadata": {
        "id": "dzmE2AU-2WAx"
      }
    },
    {
      "cell_type": "code",
      "source": [
        "print(\"Hello\" + \"Zahra\")"
      ],
      "metadata": {
        "colab": {
          "base_uri": "https://localhost:8080/"
        },
        "id": "rHIWqnNI2F58",
        "outputId": "2142e2b8-36d1-4d81-979d-7f9734f727d2"
      },
      "execution_count": 4,
      "outputs": [
        {
          "output_type": "stream",
          "name": "stdout",
          "text": [
            "HelloZahra\n"
          ]
        }
      ]
    },
    {
      "cell_type": "markdown",
      "source": [
        "adding space"
      ],
      "metadata": {
        "id": "4mmi8UJv2aR_"
      }
    },
    {
      "cell_type": "code",
      "source": [
        "print(\"Hello \"+\"Zahra\")\n",
        "print(\"Hello\"+\" Zahra\")\n",
        "print(\"Helle\"+\" \"+\"Zahra\")"
      ],
      "metadata": {
        "colab": {
          "base_uri": "https://localhost:8080/"
        },
        "id": "-u2rZoY92VbL",
        "outputId": "e535b29b-a2c9-4f5e-aab1-43f867e9be62"
      },
      "execution_count": 5,
      "outputs": [
        {
          "output_type": "stream",
          "name": "stdout",
          "text": [
            "Hello Zahra\n",
            "Hello Zahra\n",
            "Helle Zahra\n"
          ]
        }
      ]
    },
    {
      "cell_type": "markdown",
      "source": [
        "Day 1.2 - fix the code below:\n",
        "\n"
      ],
      "metadata": {
        "id": "N5f8RdfO4xRV"
      }
    },
    {
      "cell_type": "code",
      "source": [
        "\n",
        "print(Day 1 - String Manipulation\")\n",
        "\n",
        "print(\"String Concatenation is done with the \"+\" sign.\")\n",
        "\n",
        "   print('e.g. print(\"Hello \" + \"world\")')\n",
        "\n",
        "print((\"New lines can be created with a backslash and n.\")"
      ],
      "metadata": {
        "colab": {
          "base_uri": "https://localhost:8080/",
          "height": 106
        },
        "id": "gw2eWR7i2nWB",
        "outputId": "14c44c56-5197-4b7d-feb2-18592fa21c40"
      },
      "execution_count": 6,
      "outputs": [
        {
          "output_type": "error",
          "ename": "SyntaxError",
          "evalue": "unterminated string literal (detected at line 3) (<ipython-input-6-c517559c74ee>, line 3)",
          "traceback": [
            "\u001b[0;36m  File \u001b[0;32m\"<ipython-input-6-c517559c74ee>\"\u001b[0;36m, line \u001b[0;32m3\u001b[0m\n\u001b[0;31m    print(Day 1 - String Manipulation\")\u001b[0m\n\u001b[0m                                     ^\u001b[0m\n\u001b[0;31mSyntaxError\u001b[0m\u001b[0;31m:\u001b[0m unterminated string literal (detected at line 3)\n"
          ]
        }
      ]
    },
    {
      "cell_type": "markdown",
      "source": [
        "Answer 1.2"
      ],
      "metadata": {
        "id": "Tk581Qx26xJX"
      }
    },
    {
      "cell_type": "code",
      "source": [
        "\n",
        "print(\"Day 1 - String Manipulation\")\n",
        "\n",
        "print(\"String Concatenation is done with the '+' sign.\")\n",
        "\n",
        "print('e.g. print(\"Hello \" + \"world\")')\n",
        "\n",
        "print(\"New lines can be created with a backslash and n.\")"
      ],
      "metadata": {
        "colab": {
          "base_uri": "https://localhost:8080/"
        },
        "id": "rQiF-XuA6V8-",
        "outputId": "8225153b-6888-4bc1-c079-547ac21eace8"
      },
      "execution_count": 11,
      "outputs": [
        {
          "output_type": "stream",
          "name": "stdout",
          "text": [
            "Day 1 - String Manipulation\n",
            "String Concatenation is done with the '+' sign.\n",
            "e.g. print(\"Hello \" + \"world\")\n",
            "New lines can be created with a backslash and n.\n"
          ]
        }
      ]
    },
    {
      "cell_type": "code",
      "source": [
        "input(\"What is your name?\")"
      ],
      "metadata": {
        "colab": {
          "base_uri": "https://localhost:8080/",
          "height": 53
        },
        "id": "_1wOSzzb6bQk",
        "outputId": "eb02b555-e66a-465a-9ba6-1210136ea018"
      },
      "execution_count": 12,
      "outputs": [
        {
          "name": "stdout",
          "output_type": "stream",
          "text": [
            "What is your name?Zahra\n"
          ]
        },
        {
          "output_type": "execute_result",
          "data": {
            "text/plain": [
              "'Zahra'"
            ],
            "application/vnd.google.colaboratory.intrinsic+json": {
              "type": "string"
            }
          },
          "metadata": {},
          "execution_count": 12
        }
      ]
    },
    {
      "cell_type": "code",
      "source": [
        "print(\"Hello \"+ input(\"What is your name? \")+\"!\") # Thonny.org to show debug"
      ],
      "metadata": {
        "colab": {
          "base_uri": "https://localhost:8080/"
        },
        "id": "kzEakhaL-Fw7",
        "outputId": "0ae0a238-8e88-4b6e-a102-7dba17f1b289"
      },
      "execution_count": 18,
      "outputs": [
        {
          "output_type": "stream",
          "name": "stdout",
          "text": [
            "What is your name? Zahra\n",
            "Hello Zahra!\n"
          ]
        }
      ]
    },
    {
      "cell_type": "code",
      "source": [
        "print( len( input(\"What is your name? \") ) )"
      ],
      "metadata": {
        "colab": {
          "base_uri": "https://localhost:8080/"
        },
        "id": "dKas3Tkd-Z5e",
        "outputId": "a5e8737c-18e2-49f9-b462-c41936abe02c"
      },
      "execution_count": 22,
      "outputs": [
        {
          "output_type": "stream",
          "name": "stdout",
          "text": [
            "What is your name? Zahra\n",
            "5\n"
          ]
        }
      ]
    },
    {
      "cell_type": "code",
      "source": [
        "name = input(\"What is your name?\")\n",
        "print(name)"
      ],
      "metadata": {
        "colab": {
          "base_uri": "https://localhost:8080/"
        },
        "id": "rb8fpRx3AR8Y",
        "outputId": "312302bb-0d77-4ed3-91f7-939738ea6096"
      },
      "execution_count": 1,
      "outputs": [
        {
          "output_type": "stream",
          "name": "stdout",
          "text": [
            "What is your name?Zahra\n",
            "Zahra\n"
          ]
        }
      ]
    },
    {
      "cell_type": "code",
      "source": [
        "name = \"Jack\"\n",
        "print(name)"
      ],
      "metadata": {
        "colab": {
          "base_uri": "https://localhost:8080/"
        },
        "id": "ZDKGWAQ3lMk3",
        "outputId": "8909df8e-ea6d-46f7-8542-5f79441297af"
      },
      "execution_count": 2,
      "outputs": [
        {
          "output_type": "stream",
          "name": "stdout",
          "text": [
            "Jack\n"
          ]
        }
      ]
    },
    {
      "cell_type": "code",
      "source": [
        "name = \"Zahra\"\n",
        "print(name)"
      ],
      "metadata": {
        "colab": {
          "base_uri": "https://localhost:8080/"
        },
        "id": "Mh9MX5EKlZQV",
        "outputId": "2db56b50-b5ab-4e31-d772-3dc0103808b1"
      },
      "execution_count": 3,
      "outputs": [
        {
          "output_type": "stream",
          "name": "stdout",
          "text": [
            "Zahra\n"
          ]
        }
      ]
    },
    {
      "cell_type": "code",
      "source": [
        "name = input(\"What is your name?\")\n",
        "length = len(name)\n",
        "print(length)"
      ],
      "metadata": {
        "colab": {
          "base_uri": "https://localhost:8080/"
        },
        "id": "4ujAtudRlYAe",
        "outputId": "a46db97b-5437-4db8-af97-7cb4b60acee1"
      },
      "execution_count": 4,
      "outputs": [
        {
          "output_type": "stream",
          "name": "stdout",
          "text": [
            "What is your name?Zahra\n",
            "5\n"
          ]
        }
      ]
    },
    {
      "cell_type": "code",
      "source": [
        "a = input(\"a: \")\n",
        "b = input(\"b: \")\n",
        "a,b = b,a\n",
        "print(\"a: \", a)\n",
        "print(\"b: \", b)"
      ],
      "metadata": {
        "colab": {
          "base_uri": "https://localhost:8080/"
        },
        "id": "GTLe0MyJlpK1",
        "outputId": "0991de2d-cae9-4e5e-b563-55456984fef9"
      },
      "execution_count": 5,
      "outputs": [
        {
          "output_type": "stream",
          "name": "stdout",
          "text": [
            "a: 100\n",
            "b: 5\n",
            "a:  5\n",
            "b:  100\n"
          ]
        }
      ]
    },
    {
      "cell_type": "markdown",
      "source": [
        "#Project1."
      ],
      "metadata": {
        "id": "vv4-BkZrpBl4"
      }
    },
    {
      "cell_type": "code",
      "source": [
        "name = input(\"What is your name?\\n\")\n",
        "print(\"Hello \"+ \"'\"+ name + \"'\" + \" Welcome to my new band name generator amazing program!!\\nMy name is Zahra i would like to get to know you!!\\nPleaze answer these questions for this purpose.\\nI'd appreciate your participation.\\nSo let's strat!! :)) \")"
      ],
      "metadata": {
        "colab": {
          "base_uri": "https://localhost:8080/"
        },
        "id": "MMHEAMrgmCYO",
        "outputId": "ac2c9a4e-b7d5-49fc-fa22-8f66d7afa217"
      },
      "execution_count": 29,
      "outputs": [
        {
          "output_type": "stream",
          "name": "stdout",
          "text": [
            "What is your name?\n",
            "Ali\n",
            "Hello 'Ali' Welcome to my new band name generator amazing program!!\n",
            "My name is Zahra i would like to get to know you!!\n",
            "Pleaze answer these questions for this purpose.\n",
            "I'd appreciate your participation.\n",
            "So let's strat!! :)) \n"
          ]
        }
      ]
    },
    {
      "cell_type": "code",
      "source": [
        "city = input(\"What's name of the city you grew up in?\\n\")\n",
        "print(city + \" is a great place to live.\")"
      ],
      "metadata": {
        "colab": {
          "base_uri": "https://localhost:8080/"
        },
        "id": "kK-F5aAVow4V",
        "outputId": "41bb6e36-7fb5-4eec-ea32-719aeee125b5"
      },
      "execution_count": 25,
      "outputs": [
        {
          "output_type": "stream",
          "name": "stdout",
          "text": [
            "What's name of the city you grew up in?\n",
            "Tehran\n",
            "Tehran is a great place to live.\n"
          ]
        }
      ]
    },
    {
      "cell_type": "code",
      "source": [
        "pet = input(\"What is your pet's name?\\n\")\n",
        "print(pet + \" , wow such a beautiful name.\")"
      ],
      "metadata": {
        "colab": {
          "base_uri": "https://localhost:8080/"
        },
        "id": "ji-pQp9fqbYj",
        "outputId": "e0b09fa7-413e-4f4d-9190-30f5568628fa"
      },
      "execution_count": 27,
      "outputs": [
        {
          "output_type": "stream",
          "name": "stdout",
          "text": [
            "What is your pet's name?\n",
            "Juju\n",
            "Juju , wow such a beautiful name.\n"
          ]
        }
      ]
    },
    {
      "cell_type": "code",
      "source": [
        "print(\"your band name could be \" + name + \" \" + city  + \" \"+ pet)"
      ],
      "metadata": {
        "colab": {
          "base_uri": "https://localhost:8080/"
        },
        "id": "Ma14oPVGq4ot",
        "outputId": "5f927d66-ef3f-4b9f-9659-c0802576fb41"
      },
      "execution_count": 28,
      "outputs": [
        {
          "output_type": "stream",
          "name": "stdout",
          "text": [
            "your band name could be Ali Tehran Juju\n"
          ]
        }
      ]
    },
    {
      "cell_type": "code",
      "source": [],
      "metadata": {
        "id": "kNIzWy_qru9u"
      },
      "execution_count": null,
      "outputs": []
    }
  ]
}