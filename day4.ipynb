{
  "nbformat": 4,
  "nbformat_minor": 0,
  "metadata": {
    "colab": {
      "provenance": [],
      "authorship_tag": "ABX9TyOQxP8iJIiEdxN4qLTnQqxO",
      "include_colab_link": true
    },
    "kernelspec": {
      "name": "python3",
      "display_name": "Python 3"
    },
    "language_info": {
      "name": "python"
    }
  },
  "cells": [
    {
      "cell_type": "markdown",
      "metadata": {
        "id": "view-in-github",
        "colab_type": "text"
      },
      "source": [
        "<a href=\"https://colab.research.google.com/github/zahra-sharifzadeh/100daysPythonBootcamp/blob/main/day4.ipynb\" target=\"_parent\"><img src=\"https://colab.research.google.com/assets/colab-badge.svg\" alt=\"Open In Colab\"/></a>"
      ]
    },
    {
      "cell_type": "markdown",
      "source": [
        "## Randomization"
      ],
      "metadata": {
        "id": "2zcwXbSbsYTd"
      }
    },
    {
      "cell_type": "markdown",
      "source": [
        "### int random num"
      ],
      "metadata": {
        "id": "X5KKu22izhp0"
      }
    },
    {
      "cell_type": "code",
      "execution_count": 3,
      "metadata": {
        "colab": {
          "base_uri": "https://localhost:8080/"
        },
        "id": "tC6dV2evF-mw",
        "outputId": "99fcff53-95e1-456a-e3e3-880ff117b70e"
      },
      "outputs": [
        {
          "output_type": "stream",
          "name": "stdout",
          "text": [
            "8\n"
          ]
        }
      ],
      "source": [
        "import random\n",
        "random_integer = random.randint(1, 10)\n",
        "print(random_integer)"
      ]
    },
    {
      "cell_type": "markdown",
      "source": [
        "### float random number"
      ],
      "metadata": {
        "id": "CO5BwnjkzmD8"
      }
    },
    {
      "cell_type": "code",
      "source": [
        "random_float = random.random()\n",
        "print(random_float)"
      ],
      "metadata": {
        "colab": {
          "base_uri": "https://localhost:8080/"
        },
        "id": "4rs0KCw0wFuO",
        "outputId": "dd7a2b4d-06cc-4c5e-f34b-bcb42edce9ca"
      },
      "execution_count": 4,
      "outputs": [
        {
          "output_type": "stream",
          "name": "stdout",
          "text": [
            "0.1335156823811805\n"
          ]
        }
      ]
    },
    {
      "cell_type": "markdown",
      "source": [
        "### random decimal number between 0 and 5"
      ],
      "metadata": {
        "id": "E2QU94w50HP0"
      }
    },
    {
      "cell_type": "code",
      "source": [
        "random_float_0_5 = random.random() * 5\n",
        "print(random_float_0_5)"
      ],
      "metadata": {
        "colab": {
          "base_uri": "https://localhost:8080/"
        },
        "id": "_UJfymDo0FNz",
        "outputId": "43302ef5-a792-452c-c459-72ae2b605f14"
      },
      "execution_count": 6,
      "outputs": [
        {
          "output_type": "stream",
          "name": "stdout",
          "text": [
            "3.505532813613317\n"
          ]
        }
      ]
    },
    {
      "cell_type": "markdown",
      "source": [
        "## Head and tail"
      ],
      "metadata": {
        "id": "ZT4qnXs0JOos"
      }
    },
    {
      "cell_type": "code",
      "source": [
        "import random\n",
        "\n",
        "random_num = random.randint(0,1)\n",
        "\n",
        "if random_num ==0:\n",
        "  print(\"Tail\")\n",
        "\n",
        "else:\n",
        "  print(\"Head\")\n",
        "\n",
        "\n"
      ],
      "metadata": {
        "colab": {
          "base_uri": "https://localhost:8080/"
        },
        "id": "o0_8BM6h0RmE",
        "outputId": "f570f7d9-a549-480b-a036-ec0eafb1f958"
      },
      "execution_count": 10,
      "outputs": [
        {
          "output_type": "stream",
          "name": "stdout",
          "text": [
            "Head\n"
          ]
        }
      ]
    },
    {
      "cell_type": "markdown",
      "source": [
        "# List\n"
      ],
      "metadata": {
        "id": "vSg3Jr5-Oykh"
      }
    },
    {
      "cell_type": "code",
      "source": [
        "state_names=[\"Alabama\", \"Alaska\", \"Arizona\", \"Arkansas\", \"California\", \"Colorado\", \"Connecticut\", \"Delaware\", \"Florida\", \"Georgia\", \"Hawaii\", \"Idaho\", \"Illinois\", \"Indiana\", \"Iowa\", \"Kansas\", \"Kentucky\", \"Louisiana\", \"Maine\", \"Maryland\", \"Massachusetts\", \"Michigan\", \"Minnesota\", \"Mississippi\", \"Missouri\", \"Montana\", \"Nebraska\", \"Nevada\", \"New Hampshire\", \"New Jersey\", \"New Mexico\", \"New York\", \"North Carolina\", \"North Dakota\", \"Ohio\", \"Oklahoma\", \"Oregon\", \"Pennsylvania\", \"Rhode Island\", \"South Carolina\", \"South Dakota\", \"Tennessee\", \"Texas\", \"Utah\", \"Vermont\", \"Virginia\", \"Washington\", \"West Virginia\", \"Wisconsin\", \"Wyoming\"]\n",
        "print(state_names)\n",
        "print(state_names[0])\n",
        "print(state_names[-1])"
      ],
      "metadata": {
        "colab": {
          "base_uri": "https://localhost:8080/"
        },
        "id": "082fC-mlJlVV",
        "outputId": "6760960c-7f4d-4d08-f656-9e686a1a73f0"
      },
      "execution_count": 14,
      "outputs": [
        {
          "output_type": "stream",
          "name": "stdout",
          "text": [
            "['Alabama', 'Alaska', 'Arizona', 'Arkansas', 'California', 'Colorado', 'Connecticut', 'Delaware', 'Florida', 'Georgia', 'Hawaii', 'Idaho', 'Illinois', 'Indiana', 'Iowa', 'Kansas', 'Kentucky', 'Louisiana', 'Maine', 'Maryland', 'Massachusetts', 'Michigan', 'Minnesota', 'Mississippi', 'Missouri', 'Montana', 'Nebraska', 'Nevada', 'New Hampshire', 'New Jersey', 'New Mexico', 'New York', 'North Carolina', 'North Dakota', 'Ohio', 'Oklahoma', 'Oregon', 'Pennsylvania', 'Rhode Island', 'South Carolina', 'South Dakota', 'Tennessee', 'Texas', 'Utah', 'Vermont', 'Virginia', 'Washington', 'West Virginia', 'Wisconsin', 'Wyoming']\n",
            "Alabama\n",
            "Wyoming\n"
          ]
        }
      ]
    },
    {
      "cell_type": "code",
      "source": [
        "state_names.append(\"Tehran\")"
      ],
      "metadata": {
        "id": "_bw6mmuTZ977"
      },
      "execution_count": 15,
      "outputs": []
    },
    {
      "cell_type": "code",
      "source": [
        "print(state_names[-1])"
      ],
      "metadata": {
        "colab": {
          "base_uri": "https://localhost:8080/"
        },
        "id": "qgZLc_kcaw8D",
        "outputId": "13a963e0-09b0-4c27-f31c-7be6e41e49f1"
      },
      "execution_count": 16,
      "outputs": [
        {
          "output_type": "stream",
          "name": "stdout",
          "text": [
            "Tehran\n"
          ]
        }
      ]
    },
    {
      "cell_type": "code",
      "source": [
        "state_names.extend([\"Zahra\", \"Nahid\", \"Hamid\"])\n",
        "print(state_names)"
      ],
      "metadata": {
        "colab": {
          "base_uri": "https://localhost:8080/"
        },
        "id": "RX6Z4d6xayXM",
        "outputId": "0039c301-8351-47a6-d5df-87d2f5d565c7"
      },
      "execution_count": 18,
      "outputs": [
        {
          "output_type": "stream",
          "name": "stdout",
          "text": [
            "['Alabama', 'Alaska', 'Arizona', 'Arkansas', 'California', 'Colorado', 'Connecticut', 'Delaware', 'Florida', 'Georgia', 'Hawaii', 'Idaho', 'Illinois', 'Indiana', 'Iowa', 'Kansas', 'Kentucky', 'Louisiana', 'Maine', 'Maryland', 'Massachusetts', 'Michigan', 'Minnesota', 'Mississippi', 'Missouri', 'Montana', 'Nebraska', 'Nevada', 'New Hampshire', 'New Jersey', 'New Mexico', 'New York', 'North Carolina', 'North Dakota', 'Ohio', 'Oklahoma', 'Oregon', 'Pennsylvania', 'Rhode Island', 'South Carolina', 'South Dakota', 'Tennessee', 'Texas', 'Utah', 'Vermont', 'Virginia', 'Washington', 'West Virginia', 'Wisconsin', 'Wyoming', 'Tehran', 'Zahra', 'Nahid', 'Hamid']\n"
          ]
        }
      ]
    },
    {
      "cell_type": "markdown",
      "source": [
        "## Who's gonna pay?"
      ],
      "metadata": {
        "id": "1Zs_tpLBbhtH"
      }
    },
    {
      "cell_type": "code",
      "source": [
        "import random\n",
        "names = input(\"Please enter the names and split names with ','.\").split(',')\n",
        "num = len(names)\n",
        "payer = random.randint(0, num-1)\n",
        "\n",
        "print(f\"{names[payer]} should pay the bills.\")\n"
      ],
      "metadata": {
        "colab": {
          "base_uri": "https://localhost:8080/"
        },
        "id": "Ex9uctZRbBcE",
        "outputId": "455999a8-d101-4661-cd61-6b28ace5a501"
      },
      "execution_count": 22,
      "outputs": [
        {
          "output_type": "stream",
          "name": "stdout",
          "text": [
            "Please enter the names and split names with ','.Zahra, Ali, Fatemeh, Nahid, Hamid\n",
            " Nahid should pay the bills.\n"
          ]
        }
      ]
    },
    {
      "cell_type": "code",
      "source": [
        "import random\n",
        "names = input(\"Please enter the names and split names with ','.\").split(',')\n",
        "payer = random.choice(names)\n",
        "\n",
        "print(f\"{payer} should pay the bills.\")"
      ],
      "metadata": {
        "colab": {
          "base_uri": "https://localhost:8080/"
        },
        "id": "bTZdMEtPjmzT",
        "outputId": "d30a2db7-e07a-42f4-a97f-f8226f417cc6"
      },
      "execution_count": 24,
      "outputs": [
        {
          "output_type": "stream",
          "name": "stdout",
          "text": [
            "Please enter the names and split names with ','.Zahra, Ali, Fatemeh, Nahid, Hamid\n",
            " Ali should pay the bills.\n"
          ]
        }
      ]
    },
    {
      "cell_type": "markdown",
      "source": [
        "## Nested List"
      ],
      "metadata": {
        "id": "-XcSxDFAn2fV"
      }
    },
    {
      "cell_type": "code",
      "source": [
        "\n",
        "furits = [ \"Strawberries\", \"Nectarines\", \"Apples\", \"Grapes\", \"Peaches\", \"Cherriess\", \"Pears\"]\n",
        "vegetables = [\"Spinach\", \"Kale\", \"Tomatoes\", \"Celery\", \"Potatoes\"]\n",
        "\n",
        "dirty_dozen = [furits, vegetables]\n",
        "\n",
        "print(dirty_dozen)"
      ],
      "metadata": {
        "colab": {
          "base_uri": "https://localhost:8080/"
        },
        "id": "gvkpQBTml52g",
        "outputId": "98d49901-3403-4e02-d74e-69ec096b8746"
      },
      "execution_count": 25,
      "outputs": [
        {
          "output_type": "stream",
          "name": "stdout",
          "text": [
            "[['Strawberries', 'Nectarines', 'Apples', 'Grapes', 'Peaches', 'Cherriess', 'Pears'], ['Spinach', 'Kale', 'Tomatoes', 'Celery', 'Potatoes']]\n"
          ]
        }
      ]
    },
    {
      "cell_type": "markdown",
      "source": [
        "## Treasure Map\n",
        "\n"
      ],
      "metadata": {
        "id": "9gt7F7Oerx2a"
      }
    },
    {
      "cell_type": "code",
      "source": [
        "row1 = [\"🌫\", \"🌫\", \"🌫\"]\n",
        "row2 = [\"🌫\", \"🌫\", \"🌫\"]\n",
        "row3 = [\"🌫\", \"🌫\", \"🌫\"]\n",
        "\n",
        "map = [row1, row2, row3]\n",
        "\n",
        "print(f\"{row1}\\n{row2}\\n{row3}\")"
      ],
      "metadata": {
        "colab": {
          "base_uri": "https://localhost:8080/"
        },
        "id": "SL9RdZEmqtVX",
        "outputId": "886f0e08-7230-4844-a6a2-50591878813c"
      },
      "execution_count": 38,
      "outputs": [
        {
          "output_type": "stream",
          "name": "stdout",
          "text": [
            "['🌫', '🌫', '🌫']\n",
            "['🌫', '🌫', '🌫']\n",
            "['🌫', '🌫', '🌫']\n"
          ]
        }
      ]
    },
    {
      "cell_type": "code",
      "source": [
        "index_Of_Treasure = input(\"Where do you want to put the treasure? \")\n",
        "map[int(index_Of_Treasure[1])-1][int(index_Of_Treasure[0])-1] = \"x\"\n",
        "print(f\"{row1}\\n{row2}\\n{row3}\")"
      ],
      "metadata": {
        "colab": {
          "base_uri": "https://localhost:8080/"
        },
        "id": "e2aExSqds7NG",
        "outputId": "47dd0b4b-969f-49ee-bb63-42a9d87983df"
      },
      "execution_count": 39,
      "outputs": [
        {
          "output_type": "stream",
          "name": "stdout",
          "text": [
            "Where do you want to put the treasure? 31\n",
            "['🌫', '🌫', 'x']\n",
            "['🌫', '🌫', '🌫']\n",
            "['🌫', '🌫', '🌫']\n"
          ]
        }
      ]
    },
    {
      "cell_type": "markdown",
      "source": [
        "# Rock paper scissors"
      ],
      "metadata": {
        "id": "Nuon0tQXwuBs"
      }
    },
    {
      "cell_type": "code",
      "source": [
        "import random\n",
        "\n",
        "\n",
        "rock = '''\n",
        "    _______\n",
        "---'   ____)\n",
        "      (_____)\n",
        "      (_____)\n",
        "      (____)\n",
        "---.__(___)\n",
        "'''\n",
        "\n",
        "paper = '''\n",
        "    _______\n",
        "---'   ____)____\n",
        "          ______)\n",
        "          _______)\n",
        "         _______)\n",
        "---.__________)\n",
        "'''\n",
        "\n",
        "scissors = '''\n",
        "    _______\n",
        "---'   ____)____\n",
        "          ______)\n",
        "       __________)\n",
        "      (____)\n",
        "---.__(___)\n",
        "'''\n",
        "\n",
        "print(scissors)\n"
      ],
      "metadata": {
        "colab": {
          "base_uri": "https://localhost:8080/"
        },
        "id": "wDlFVckguNgP",
        "outputId": "77f9416c-4d4c-4d53-a02a-567e990b012a"
      },
      "execution_count": 46,
      "outputs": [
        {
          "output_type": "stream",
          "name": "stdout",
          "text": [
            "\n",
            "    _______\n",
            "---'   ____)____\n",
            "          ______)\n",
            "       __________)\n",
            "      (____)\n",
            "---.__(___)\n",
            "\n"
          ]
        }
      ]
    },
    {
      "cell_type": "code",
      "source": [
        "game = [rock, paper, scissors]\n",
        "\n",
        "ans =  int(input(\"What do you choose? type 0 for Rock, 1 for for Paper, 2 for Scissors. \\n\"))\n",
        "comp_ans = random.randint(0, len(game)-1)\n",
        "\n",
        "error = 0\n",
        "\n",
        "if ans == 0:\n",
        "  if comp_ans == 0:\n",
        "    print(\"You are even!\")\n",
        "\n",
        "  elif comp_ans== 1:\n",
        "    print(\"You lost the game.\")\n",
        "\n",
        "  else:\n",
        "    print(\"You are the winner!!\")\n",
        "\n",
        "elif ans == 1:\n",
        "  if comp_ans == 1:\n",
        "    print(\"You are even!\")\n",
        "\n",
        "  elif comp_ans== 2:\n",
        "    print(\"You lost the game.\")\n",
        "\n",
        "  else:\n",
        "    print(\"You are the winner!!\")\n",
        "\n",
        "elif ans == 2:\n",
        "  if comp_ans == 2:\n",
        "    print(\"You are even!\")\n",
        "\n",
        "  elif comp_ans== 0:\n",
        "    print(\"You lost the game.\")\n",
        "\n",
        "  else:\n",
        "    print(\"You are the winner!!\")\n",
        "\n",
        "else:\n",
        "  print(\"you enter invalid number!!\")\n",
        "  error = 1\n",
        "\n",
        "\n",
        "if not error:\n",
        "  print(game[ans])\n",
        "  print(\"Computer choice:\")\n",
        "  print(game[comp_ans])"
      ],
      "metadata": {
        "colab": {
          "base_uri": "https://localhost:8080/"
        },
        "id": "loYJAce74AwP",
        "outputId": "b022a744-2b56-41a1-fe86-6f7731f50a20"
      },
      "execution_count": 88,
      "outputs": [
        {
          "output_type": "stream",
          "name": "stdout",
          "text": [
            "What do you choose? type 0 for Rock, 1 for for Paper, 2 for Scissors. \n",
            "0\n",
            "You lost the game.\n",
            "\n",
            "    _______\n",
            "---'   ____)\n",
            "      (_____)\n",
            "      (_____)\n",
            "      (____)\n",
            "---.__(___)\n",
            "\n",
            "Computer choice:\n",
            "\n",
            "    _______\n",
            "---'   ____)____\n",
            "          ______)\n",
            "          _______)\n",
            "         _______)\n",
            "---.__________)\n",
            "\n"
          ]
        }
      ]
    },
    {
      "cell_type": "code",
      "source": [],
      "metadata": {
        "colab": {
          "base_uri": "https://localhost:8080/"
        },
        "id": "dpRswnW34vJy",
        "outputId": "f5ace15c-4f52-48dc-c551-567305d9b0d9"
      },
      "execution_count": 70,
      "outputs": [
        {
          "output_type": "execute_result",
          "data": {
            "text/plain": [
              "2"
            ]
          },
          "metadata": {},
          "execution_count": 70
        }
      ]
    },
    {
      "cell_type": "code",
      "source": [],
      "metadata": {
        "id": "qUsljk5z40dK"
      },
      "execution_count": null,
      "outputs": []
    }
  ]
}