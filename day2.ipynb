{
  "nbformat": 4,
  "nbformat_minor": 0,
  "metadata": {
    "colab": {
      "provenance": [],
      "authorship_tag": "ABX9TyMK032ACpxvoV+USUtevI5L",
      "include_colab_link": true
    },
    "kernelspec": {
      "name": "python3",
      "display_name": "Python 3"
    },
    "language_info": {
      "name": "python"
    }
  },
  "cells": [
    {
      "cell_type": "markdown",
      "metadata": {
        "id": "view-in-github",
        "colab_type": "text"
      },
      "source": [
        "<a href=\"https://colab.research.google.com/github/zahra-sharifzadeh/100daysPythonBootcamp/blob/main/day2.ipynb\" target=\"_parent\"><img src=\"https://colab.research.google.com/assets/colab-badge.svg\" alt=\"Open In Colab\"/></a>"
      ]
    },
    {
      "cell_type": "markdown",
      "source": [
        "## Subscripting"
      ],
      "metadata": {
        "id": "afSF3N522r-u"
      }
    },
    {
      "cell_type": "code",
      "execution_count": 2,
      "metadata": {
        "colab": {
          "base_uri": "https://localhost:8080/"
        },
        "id": "TqQFDiRKsznA",
        "outputId": "e437ce06-c805-4dae-b5da-d397db5cd1fb"
      },
      "outputs": [
        {
          "output_type": "stream",
          "name": "stdout",
          "text": [
            "H\n"
          ]
        }
      ],
      "source": [
        "print(\"Hello\"[0])"
      ]
    },
    {
      "cell_type": "code",
      "source": [
        "print(\"Hello\"[-1])"
      ],
      "metadata": {
        "colab": {
          "base_uri": "https://localhost:8080/"
        },
        "id": "o--GElWB2naV",
        "outputId": "4d95884b-7efb-4546-96c4-41d9fef8b64f"
      },
      "execution_count": 4,
      "outputs": [
        {
          "output_type": "stream",
          "name": "stdout",
          "text": [
            "o\n"
          ]
        }
      ]
    },
    {
      "cell_type": "markdown",
      "source": [
        "string is no int value"
      ],
      "metadata": {
        "id": "G-XSICLd3DPM"
      }
    },
    {
      "cell_type": "code",
      "source": [
        "print(\"123\" + \"456\")"
      ],
      "metadata": {
        "colab": {
          "base_uri": "https://localhost:8080/"
        },
        "id": "OClzrx3V27tr",
        "outputId": "9d790083-a1f2-43b4-85ac-0a899406d70a"
      },
      "execution_count": 5,
      "outputs": [
        {
          "output_type": "stream",
          "name": "stdout",
          "text": [
            "123456\n"
          ]
        }
      ]
    },
    {
      "cell_type": "markdown",
      "source": [
        "##int"
      ],
      "metadata": {
        "id": "AUmdYT9Q3Rms"
      }
    },
    {
      "cell_type": "code",
      "source": [
        "print(123+456)"
      ],
      "metadata": {
        "colab": {
          "base_uri": "https://localhost:8080/"
        },
        "id": "_XFJPzxW3LZs",
        "outputId": "6a2ae22a-947e-4820-e28e-0d2308981818"
      },
      "execution_count": 6,
      "outputs": [
        {
          "output_type": "stream",
          "name": "stdout",
          "text": [
            "579\n"
          ]
        }
      ]
    },
    {
      "cell_type": "markdown",
      "source": [
        "##Float"
      ],
      "metadata": {
        "id": "e3RCa1dl3SmY"
      }
    },
    {
      "cell_type": "code",
      "source": [
        "print(3.23445)"
      ],
      "metadata": {
        "colab": {
          "base_uri": "https://localhost:8080/"
        },
        "id": "Rtr_a5v93NXN",
        "outputId": "6da7a442-8fdc-4e87-bdae-66671e8221ff"
      },
      "execution_count": 7,
      "outputs": [
        {
          "output_type": "stream",
          "name": "stdout",
          "text": [
            "3.23445\n"
          ]
        }
      ]
    },
    {
      "cell_type": "markdown",
      "source": [
        "##Boolean"
      ],
      "metadata": {
        "id": "HYoeElcN3aa-"
      }
    },
    {
      "cell_type": "code",
      "source": [
        "print(True)\n",
        "print(False)"
      ],
      "metadata": {
        "colab": {
          "base_uri": "https://localhost:8080/"
        },
        "id": "JDRe48PP3Yde",
        "outputId": "c41cd371-29dd-47f9-9dbb-fc4d7f96358d"
      },
      "execution_count": 8,
      "outputs": [
        {
          "output_type": "stream",
          "name": "stdout",
          "text": [
            "True\n",
            "False\n"
          ]
        }
      ]
    },
    {
      "cell_type": "markdown",
      "source": [
        "## TypeError"
      ],
      "metadata": {
        "id": "QjqbqI2z3rvP"
      }
    },
    {
      "cell_type": "code",
      "source": [
        "len(378478)"
      ],
      "metadata": {
        "colab": {
          "base_uri": "https://localhost:8080/",
          "height": 176
        },
        "id": "ucVBl0Tx3gWP",
        "outputId": "4f8c82eb-924a-4411-cf56-7f2f218464c4"
      },
      "execution_count": 10,
      "outputs": [
        {
          "output_type": "error",
          "ename": "TypeError",
          "evalue": "object of type 'int' has no len()",
          "traceback": [
            "\u001b[0;31m---------------------------------------------------------------------------\u001b[0m",
            "\u001b[0;31mTypeError\u001b[0m                                 Traceback (most recent call last)",
            "\u001b[0;32m<ipython-input-10-c5465d760a1d>\u001b[0m in \u001b[0;36m<cell line: 1>\u001b[0;34m()\u001b[0m\n\u001b[0;32m----> 1\u001b[0;31m \u001b[0mlen\u001b[0m\u001b[0;34m(\u001b[0m\u001b[0;36m378478\u001b[0m\u001b[0;34m)\u001b[0m\u001b[0;34m\u001b[0m\u001b[0;34m\u001b[0m\u001b[0m\n\u001b[0m",
            "\u001b[0;31mTypeError\u001b[0m: object of type 'int' has no len()"
          ]
        }
      ]
    },
    {
      "cell_type": "markdown",
      "source": [
        "## Type check"
      ],
      "metadata": {
        "id": "n03ylVDm3_aV"
      }
    },
    {
      "cell_type": "code",
      "source": [
        "print(type(123434))"
      ],
      "metadata": {
        "colab": {
          "base_uri": "https://localhost:8080/"
        },
        "id": "bWKFEKFq3vzc",
        "outputId": "45543631-9b58-4eac-b2bf-4c2ff9143299"
      },
      "execution_count": 11,
      "outputs": [
        {
          "output_type": "stream",
          "name": "stdout",
          "text": [
            "<class 'int'>\n"
          ]
        }
      ]
    },
    {
      "cell_type": "markdown",
      "source": [
        "## Type convert"
      ],
      "metadata": {
        "id": "AT0tPPy54CYc"
      }
    },
    {
      "cell_type": "code",
      "source": [
        "num_char = len(input(\"what is your name?\\n\"))\n",
        "new_num_char = str(num_char)\n",
        "print(\"Your name has \" + new_num_char + \" characters.\")"
      ],
      "metadata": {
        "colab": {
          "base_uri": "https://localhost:8080/"
        },
        "id": "JGMsTtrw384g",
        "outputId": "8b8d4c2f-9627-451c-d378-12b2072e40bf"
      },
      "execution_count": 12,
      "outputs": [
        {
          "output_type": "stream",
          "name": "stdout",
          "text": [
            "what is your name?\n",
            "Zahra\n",
            "Your name has 5 characters.\n"
          ]
        }
      ]
    },
    {
      "cell_type": "code",
      "source": [
        "a = float(123)\n",
        "print(type(a))"
      ],
      "metadata": {
        "colab": {
          "base_uri": "https://localhost:8080/"
        },
        "id": "W43EvQsD4Yv4",
        "outputId": "f29ec2c0-c2da-4a7f-a66f-abe4847ff7ed"
      },
      "execution_count": 13,
      "outputs": [
        {
          "output_type": "stream",
          "name": "stdout",
          "text": [
            "<class 'float'>\n"
          ]
        }
      ]
    },
    {
      "cell_type": "code",
      "source": [
        "print(70 + float(\"100.5\"))"
      ],
      "metadata": {
        "colab": {
          "base_uri": "https://localhost:8080/"
        },
        "id": "rsvVIp864taU",
        "outputId": "8a4da93e-7526-4dbe-8c74-1eec30e01a21"
      },
      "execution_count": 14,
      "outputs": [
        {
          "output_type": "stream",
          "name": "stdout",
          "text": [
            "170.5\n"
          ]
        }
      ]
    },
    {
      "cell_type": "markdown",
      "source": [
        "##Exe 2.1"
      ],
      "metadata": {
        "id": "TiVI_O6q43oU"
      }
    },
    {
      "cell_type": "code",
      "source": [
        "two_digit_number = input(\"Please Type a two digit number:\\n\")\n",
        "\n",
        "sum = int(two_digit_number[0]) + int(two_digit_number[1])\n",
        "\n",
        "print(sum)"
      ],
      "metadata": {
        "colab": {
          "base_uri": "https://localhost:8080/"
        },
        "id": "bLTrRplE4xuc",
        "outputId": "2e4979d7-13e1-497e-9512-883116dc4d5c"
      },
      "execution_count": 16,
      "outputs": [
        {
          "output_type": "stream",
          "name": "stdout",
          "text": [
            "Please Type a two digit number:\n",
            "12\n",
            "3\n"
          ]
        }
      ]
    },
    {
      "cell_type": "code",
      "source": [
        "3+5"
      ],
      "metadata": {
        "colab": {
          "base_uri": "https://localhost:8080/"
        },
        "id": "ScWPPwsu50Vc",
        "outputId": "84f104c3-5e93-45e1-8df6-14c79781416a"
      },
      "execution_count": 1,
      "outputs": [
        {
          "output_type": "execute_result",
          "data": {
            "text/plain": [
              "8"
            ]
          },
          "metadata": {},
          "execution_count": 1
        }
      ]
    },
    {
      "cell_type": "code",
      "source": [
        "3-1"
      ],
      "metadata": {
        "colab": {
          "base_uri": "https://localhost:8080/"
        },
        "id": "K5sysfzlN47Z",
        "outputId": "dbc44a8b-d06e-4c82-8b5f-51eccaa11935"
      },
      "execution_count": 2,
      "outputs": [
        {
          "output_type": "execute_result",
          "data": {
            "text/plain": [
              "2"
            ]
          },
          "metadata": {},
          "execution_count": 2
        }
      ]
    },
    {
      "cell_type": "code",
      "source": [
        "3*2"
      ],
      "metadata": {
        "colab": {
          "base_uri": "https://localhost:8080/"
        },
        "id": "3AYWOWocN9s2",
        "outputId": "793d8186-6267-47e5-86dd-db6349c99c6a"
      },
      "execution_count": 3,
      "outputs": [
        {
          "output_type": "execute_result",
          "data": {
            "text/plain": [
              "6"
            ]
          },
          "metadata": {},
          "execution_count": 3
        }
      ]
    },
    {
      "cell_type": "code",
      "source": [
        "6/2"
      ],
      "metadata": {
        "colab": {
          "base_uri": "https://localhost:8080/"
        },
        "id": "HCCFmoKCN-bt",
        "outputId": "89f877cb-3577-4cb5-a3f3-c809bcdb2db7"
      },
      "execution_count": 4,
      "outputs": [
        {
          "output_type": "execute_result",
          "data": {
            "text/plain": [
              "3.0"
            ]
          },
          "metadata": {},
          "execution_count": 4
        }
      ]
    },
    {
      "cell_type": "code",
      "source": [
        "2**3"
      ],
      "metadata": {
        "colab": {
          "base_uri": "https://localhost:8080/"
        },
        "id": "0v5SVHtXOAaD",
        "outputId": "2105ebe0-34c0-468c-ece3-f3582ac7c8cd"
      },
      "execution_count": 5,
      "outputs": [
        {
          "output_type": "execute_result",
          "data": {
            "text/plain": [
              "8"
            ]
          },
          "metadata": {},
          "execution_count": 5
        }
      ]
    },
    {
      "cell_type": "code",
      "source": [
        "3 * 3 + 3/3 -3"
      ],
      "metadata": {
        "colab": {
          "base_uri": "https://localhost:8080/"
        },
        "id": "X-qXVScYODEL",
        "outputId": "c026260f-6d9b-4c43-f6e2-0d260d0b6d4a"
      },
      "execution_count": 6,
      "outputs": [
        {
          "output_type": "execute_result",
          "data": {
            "text/plain": [
              "7.0"
            ]
          },
          "metadata": {},
          "execution_count": 6
        }
      ]
    },
    {
      "cell_type": "code",
      "source": [
        "3 * (3 + 3)/3 - 3"
      ],
      "metadata": {
        "colab": {
          "base_uri": "https://localhost:8080/"
        },
        "id": "9hNZDizgOJgk",
        "outputId": "797cea3b-397b-4de3-b444-0210b6d1abf8"
      },
      "execution_count": 8,
      "outputs": [
        {
          "output_type": "execute_result",
          "data": {
            "text/plain": [
              "3.0"
            ]
          },
          "metadata": {},
          "execution_count": 8
        }
      ]
    },
    {
      "cell_type": "markdown",
      "source": [
        "## BMI"
      ],
      "metadata": {
        "id": "nD9_6hZbPG9A"
      }
    },
    {
      "cell_type": "code",
      "source": [
        "height = float(input(\"please enter your height in m: \"))\n",
        "weight = float(input(\"please enter your height in kg: \"))\n",
        "\n",
        "BMI = weight/(height ** 2)\n",
        "print(int(BMI))"
      ],
      "metadata": {
        "colab": {
          "base_uri": "https://localhost:8080/"
        },
        "id": "GcvAZRJFO0pj",
        "outputId": "8da12947-45c5-46c0-cd06-a78a589a980a"
      },
      "execution_count": 13,
      "outputs": [
        {
          "output_type": "stream",
          "name": "stdout",
          "text": [
            "please enter your height in m: 1.65\n",
            "please enter your height in kg: 65\n",
            "23\n"
          ]
        }
      ]
    },
    {
      "cell_type": "code",
      "source": [
        "print(round(BMI))\n",
        "print(round(BMI,2))"
      ],
      "metadata": {
        "colab": {
          "base_uri": "https://localhost:8080/"
        },
        "id": "mNs9W1rTPoff",
        "outputId": "dd512b02-9b81-472a-a9cd-4a30b2be8c02"
      },
      "execution_count": 15,
      "outputs": [
        {
          "output_type": "stream",
          "name": "stdout",
          "text": [
            "24\n",
            "23.88\n"
          ]
        }
      ]
    },
    {
      "cell_type": "markdown",
      "source": [
        "## f sting"
      ],
      "metadata": {
        "id": "5ca7nNWZRhl7"
      }
    },
    {
      "cell_type": "code",
      "source": [
        "score = 0\n",
        "height = 1.8\n",
        "isWinning = True\n",
        "print(f\"your score is {score}, your height is {height} and you are winnig is {isWinning}\")"
      ],
      "metadata": {
        "colab": {
          "base_uri": "https://localhost:8080/"
        },
        "id": "ZinkhcnNP_ky",
        "outputId": "fea9779b-adc2-492d-829e-9eba7a2e87b7"
      },
      "execution_count": 18,
      "outputs": [
        {
          "output_type": "stream",
          "name": "stdout",
          "text": [
            "your score is 0, your height is 1.8 and you are winnig is True\n"
          ]
        }
      ]
    },
    {
      "cell_type": "markdown",
      "source": [
        "## How many days, weeks and months do we have???"
      ],
      "metadata": {
        "id": "pdvr0dRYSnFT"
      }
    },
    {
      "cell_type": "code",
      "source": [
        "age = int(input(\"what is your age? \"))"
      ],
      "metadata": {
        "colab": {
          "base_uri": "https://localhost:8080/"
        },
        "id": "N7S-M5LuSFvt",
        "outputId": "fbbb9f41-9ca9-441a-e5ad-ed4205fde7e1"
      },
      "execution_count": 24,
      "outputs": [
        {
          "name": "stdout",
          "output_type": "stream",
          "text": [
            "what is your age? 80\n"
          ]
        }
      ]
    },
    {
      "cell_type": "code",
      "source": [
        "max_age = 90\n",
        "month = (max_age - age) * 12\n",
        "week = (max_age - age) * 52\n",
        "day = (max_age - age) * 365\n",
        "\n",
        "print(f\"You have {day} days, {week} weeks and {month} months left.\")\n"
      ],
      "metadata": {
        "colab": {
          "base_uri": "https://localhost:8080/"
        },
        "id": "60v_0rLxVZxY",
        "outputId": "4f643660-cb79-44ae-e65d-6d5e35f30e45"
      },
      "execution_count": 25,
      "outputs": [
        {
          "output_type": "stream",
          "name": "stdout",
          "text": [
            "You have 3650 days, 520 weeks and 120 months left.\n"
          ]
        }
      ]
    },
    {
      "cell_type": "markdown",
      "source": [
        "## Tip calculator"
      ],
      "metadata": {
        "id": "NnVMURPjWv4f"
      }
    },
    {
      "cell_type": "code",
      "source": [
        "print(\"Welcome to the tip calculator.\")\n",
        "\n",
        "total_bill = float(input(\"What was the total bill? $\"))\n",
        "tip_precent = int(input(\"What percentage tip would you like to give? 10, 12, or 15? \"))\n",
        "ppl = int(input(\"How many people to split the bill? \"))\n",
        "\n",
        "bill_with_tip = total_bill * (1 + tip_precent/100)\n",
        "each_person_bill = bill_with_tip / ppl # bill per person\n",
        "\n",
        "print(f\"Each person should pay: ${round(each_person_bill, 2)}\")"
      ],
      "metadata": {
        "colab": {
          "base_uri": "https://localhost:8080/"
        },
        "collapsed": true,
        "id": "w6kzn0niWK75",
        "outputId": "9350f34c-30fe-476c-e9cc-def163c879f4"
      },
      "execution_count": 30,
      "outputs": [
        {
          "output_type": "stream",
          "name": "stdout",
          "text": [
            "Welcome to the tip calculator.\n",
            "What was the total bill? $124.56\n",
            "What percentage tip would you like to give? 10, 12, or 15? 12\n",
            "How many people to split the bill? 7\n",
            "Each person should pay: $19.93\n"
          ]
        }
      ]
    },
    {
      "cell_type": "code",
      "source": [
        "final_ammount = \"{:.2f}\".format(each_person_bill)\n",
        "print(f\"Each person should pay: ${final_ammount}\")"
      ],
      "metadata": {
        "colab": {
          "base_uri": "https://localhost:8080/"
        },
        "id": "YfvHjQeBbi41",
        "outputId": "9085a203-c266-4dcb-c931-b9f30f973751"
      },
      "execution_count": 31,
      "outputs": [
        {
          "output_type": "stream",
          "name": "stdout",
          "text": [
            "Each person should pay: $19.93\n"
          ]
        }
      ]
    },
    {
      "cell_type": "code",
      "source": [],
      "metadata": {
        "id": "DnH55ZYqgJZV"
      },
      "execution_count": null,
      "outputs": []
    }
  ]
}