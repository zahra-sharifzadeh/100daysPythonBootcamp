{
  "nbformat": 4,
  "nbformat_minor": 0,
  "metadata": {
    "colab": {
      "provenance": [],
      "authorship_tag": "ABX9TyMiiy7W4FVMQOUHjnSGGmJI",
      "include_colab_link": true
    },
    "kernelspec": {
      "name": "python3",
      "display_name": "Python 3"
    },
    "language_info": {
      "name": "python"
    }
  },
  "cells": [
    {
      "cell_type": "markdown",
      "metadata": {
        "id": "view-in-github",
        "colab_type": "text"
      },
      "source": [
        "<a href=\"https://colab.research.google.com/github/zahra-sharifzadeh/100daysPythonBootcamp/blob/main/day3.ipynb\" target=\"_parent\"><img src=\"https://colab.research.google.com/assets/colab-badge.svg\" alt=\"Open In Colab\"/></a>"
      ]
    },
    {
      "cell_type": "markdown",
      "source": [
        "## Condition: if , else"
      ],
      "metadata": {
        "id": "8ZT7doz6nAIr"
      }
    },
    {
      "cell_type": "code",
      "execution_count": 1,
      "metadata": {
        "colab": {
          "base_uri": "https://localhost:8080/"
        },
        "id": "pk_Ouh3sg6cE",
        "outputId": "d7f6e305-9435-4fc2-9f14-d356080fe645"
      },
      "outputs": [
        {
          "output_type": "stream",
          "name": "stdout",
          "text": [
            "Welcom to the rollercoaster!\n",
            "What is your height in cm? 165\n",
            "You can ride the rollercoaster!\n"
          ]
        }
      ],
      "source": [
        "print(\"Welcom to the rollercoaster!\")\n",
        "height = int(input(\"What is your height in cm? \"))\n",
        "\n",
        "if height > 120:\n",
        "  print(\"You can ride the rollercoaster!\")\n",
        "\n",
        "else:\n",
        "  print(\"Sorry, you have to grow taller before you can ride.\")\n"
      ]
    },
    {
      "cell_type": "code",
      "source": [
        "print(\"Welcom to the rollercoaster!\")\n",
        "height = int(input(\"What is your height in cm? \"))\n",
        "\n",
        "if height > 120:\n",
        "  print(\"You can ride the rollercoaster!\")\n",
        "\n",
        "else:\n",
        "  print(\"Sorry, you have to grow taller before you can ride.\")\n"
      ],
      "metadata": {
        "colab": {
          "base_uri": "https://localhost:8080/"
        },
        "id": "-D79xfYHnL_B",
        "outputId": "9f060054-e70a-461c-8a7c-34f9ddcc6024"
      },
      "execution_count": 2,
      "outputs": [
        {
          "output_type": "stream",
          "name": "stdout",
          "text": [
            "Welcom to the rollercoaster!\n",
            "What is your height in cm? 100\n",
            "Sorry, you have to grow taller before you can ride.\n"
          ]
        }
      ]
    },
    {
      "cell_type": "code",
      "source": [
        "print(\"Welcom to the rollercoaster!\")\n",
        "height = int(input(\"What is your height in cm? \"))\n",
        "\n",
        "if height >= 120:\n",
        "  print(\"You can ride the rollercoaster!\")\n",
        "\n",
        "else:\n",
        "  print(\"Sorry, you have to grow taller before you can ride.\")\n"
      ],
      "metadata": {
        "colab": {
          "base_uri": "https://localhost:8080/"
        },
        "id": "G4KuqTeWnQZ_",
        "outputId": "7253d4fe-d731-4bf9-9246-ed4be37b347e"
      },
      "execution_count": 3,
      "outputs": [
        {
          "output_type": "stream",
          "name": "stdout",
          "text": [
            "Welcom to the rollercoaster!\n",
            "What is your height in cm? 120\n",
            "You can ride the rollercoaster!\n"
          ]
        }
      ]
    },
    {
      "cell_type": "markdown",
      "source": [
        "## ODD or EVEN"
      ],
      "metadata": {
        "id": "UbSWq7Aznpwd"
      }
    },
    {
      "cell_type": "code",
      "source": [
        "number = int(input(\"Which number do you want to check? \"))\n",
        "\n",
        "remain = number%2\n",
        "\n",
        "if remain == 1:\n",
        "  print(f\"{number} is an odd number!!\")\n",
        "\n",
        "else:\n",
        "  print(f\"{number} is an even number!!\")"
      ],
      "metadata": {
        "colab": {
          "base_uri": "https://localhost:8080/"
        },
        "id": "KEf2OnISnUoG",
        "outputId": "0c69acb8-d875-436f-bb59-9f202d1cf1df"
      },
      "execution_count": 4,
      "outputs": [
        {
          "output_type": "stream",
          "name": "stdout",
          "text": [
            "Which number do you want to check? 23\n",
            "23 is an odd number!!\n"
          ]
        }
      ]
    },
    {
      "cell_type": "code",
      "source": [
        "number = int(input(\"Which number do you want to check? \"))\n",
        "\n",
        "remain = number%2\n",
        "\n",
        "if remain == 1:\n",
        "  print(f\"{number} is an odd number!!\")\n",
        "\n",
        "else:\n",
        "  print(f\"{number} is an even number!!\")"
      ],
      "metadata": {
        "colab": {
          "base_uri": "https://localhost:8080/"
        },
        "id": "WDGAFk75wC65",
        "outputId": "e10b32db-b692-4ef7-89a0-89448485cb3c"
      },
      "execution_count": 5,
      "outputs": [
        {
          "output_type": "stream",
          "name": "stdout",
          "text": [
            "Which number do you want to check? 56\n",
            "56 is an even number!!\n"
          ]
        }
      ]
    },
    {
      "cell_type": "markdown",
      "source": [
        "# Nested if / else"
      ],
      "metadata": {
        "id": "LsDDlvoo6-ql"
      }
    },
    {
      "cell_type": "code",
      "source": [
        "print(\"Welcom to the rollercoaster!\")\n",
        "height = int(input(\"What is your height in cm? \"))\n",
        "age = int(input(\"what is your age?\"))\n",
        "if height >= 120:\n",
        "  print(\"You can ride the rollercoaster!\")\n",
        "\n",
        "  if age >=18:\n",
        "    print(\"Please pay 12$.\")\n",
        "\n",
        "  else:\n",
        "    print(\"Please pay 7$.\")\n",
        "\n",
        "else:\n",
        "  print(\"Sorry, you have to grow taller before you can ride.\")\n"
      ],
      "metadata": {
        "colab": {
          "base_uri": "https://localhost:8080/"
        },
        "id": "4KgmsrvpwFj_",
        "outputId": "37975fc8-0c09-41d8-d9cc-49cd1f0bfa65"
      },
      "execution_count": 6,
      "outputs": [
        {
          "output_type": "stream",
          "name": "stdout",
          "text": [
            "Welcom to the rollercoaster!\n",
            "What is your height in cm? 120\n",
            "what is your age?12\n",
            "You can ride the rollercoaster!\n",
            "Please pay 7$.\n"
          ]
        }
      ]
    },
    {
      "cell_type": "markdown",
      "source": [
        "## if/ elif/else"
      ],
      "metadata": {
        "id": "MvmHkbPt7ydG"
      }
    },
    {
      "cell_type": "code",
      "source": [
        "print(\"Welcom to the rollercoaster!\")\n",
        "height = int(input(\"What is your height in cm? \"))\n",
        "age = int(input(\"what is your age?\"))\n",
        "if height >= 120:\n",
        "  print(\"You can ride the rollercoaster!\")\n",
        "\n",
        "  if age <12:\n",
        "    print(\"Please pay 5.\")\n",
        "\n",
        "  elif age > 18:\n",
        "    print(\"Please pay 12$.\")\n",
        "\n",
        "  else:\n",
        "    print(\"Please pay 7$\")\n",
        "\n",
        "else:\n",
        "  print(\"Sorry, you have to grow taller before you can ride.\")\n"
      ],
      "metadata": {
        "colab": {
          "base_uri": "https://localhost:8080/"
        },
        "id": "cq9NHq7z7vA6",
        "outputId": "a276bf47-6a6f-4696-a49b-accd64e90fd8"
      },
      "execution_count": 8,
      "outputs": [
        {
          "output_type": "stream",
          "name": "stdout",
          "text": [
            "Welcom to the rollercoaster!\n",
            "What is your height in cm? 130\n",
            "what is your age?14\n",
            "You can ride the rollercoaster!\n",
            "Please pay 7$\n"
          ]
        }
      ]
    },
    {
      "cell_type": "markdown",
      "source": [
        "## BMI Calculator\n"
      ],
      "metadata": {
        "id": "311L4Hoc8fbE"
      }
    },
    {
      "cell_type": "code",
      "source": [
        "weight = float(input(\"enter your weight in kg: \"))\n",
        "height = float(input(\"enter your height in m: \"))\n",
        "\n",
        "BMI = round(weight / (height**2), 2)\n",
        "\n",
        "if BMI >=35:\n",
        "  print(f\"Your BMI is {BMI}, You are clinically obese.\")\n",
        "\n",
        "elif 30 <= BMI< 35:\n",
        "  print(f\"Your BMI is {BMI}, You are obese. \")\n",
        "\n",
        "elif 25 <=BMI< 30:\n",
        "  print(f\"Your BMI is {BMI}, You are overweight.\")\n",
        "\n",
        "elif 18.5 <=BMI< 25:\n",
        "  print(f\"Your BMI is {BMI}, You have a normal weight.\")\n",
        "\n",
        "else:\n",
        "  print(f\"Your BMI is {BMI}, You are underweight.\")\n",
        "\n"
      ],
      "metadata": {
        "colab": {
          "base_uri": "https://localhost:8080/"
        },
        "id": "PS4fBQjA8MUX",
        "outputId": "da54b191-9e5f-42f7-a1ef-7b34c31b5c45"
      },
      "execution_count": 12,
      "outputs": [
        {
          "output_type": "stream",
          "name": "stdout",
          "text": [
            "enter your weight in kg: 65\n",
            "enter your height in m: 1.65\n",
            "Your BMI is 23.875114784205696, You have a normal weight.\n"
          ]
        }
      ]
    },
    {
      "cell_type": "code",
      "source": [
        "weight = float(input(\"enter your weight in kg: \"))\n",
        "height = float(input(\"enter your height in m: \"))\n",
        "\n",
        "BMI = round(weight / (height**2), 2)\n",
        "\n",
        "if BMI < 18.5:\n",
        "  print(f\"Your BMI is {BMI}, you are underweighted.\")\n",
        "\n",
        "elif BMI < 25:\n",
        "  print(f\"Your BMI is {BMI}, you have a normal weight.\")\n",
        "\n",
        "elif BMI < 30:\n",
        "  print(f\"Your BMI is {BMI}, you are overweight.\")\n",
        "\n",
        "elif BMI < 35:\n",
        "  print(f\"Your BMI is {BMI}, you are obese.\")\n",
        "\n",
        "else:\n",
        "  print(f\"Your BMI is {BMI}, you are clinically obese.\")\n",
        ""
      ],
      "metadata": {
        "colab": {
          "base_uri": "https://localhost:8080/"
        },
        "id": "o6QZGwyINz9C",
        "outputId": "100e14c0-5d0c-4245-8d99-792c8274473e"
      },
      "execution_count": 3,
      "outputs": [
        {
          "output_type": "stream",
          "name": "stdout",
          "text": [
            "enter your weight in kg: 65\n",
            "enter your height in m: 1.65\n",
            "Your BMI is 23.88, you have a normal weight.\n"
          ]
        }
      ]
    },
    {
      "cell_type": "markdown",
      "source": [
        "## Leap Year\n"
      ],
      "metadata": {
        "id": "PuUntS_gKGFw"
      }
    },
    {
      "cell_type": "code",
      "source": [
        "year = int(input(\"Please enter the year number? \"))\n",
        "\n",
        "if year % 400 ==0:\n",
        "  print(\"Leap year.\")\n",
        "\n",
        "elif year % 100 == 0 :\n",
        "  print(\"Not Leap year.\")\n",
        "\n",
        "elif year % 4 ==0:\n",
        "  print(\"Leap year.\")\n",
        "\n",
        "else:\n",
        "  print(\"Not Leap year.\")"
      ],
      "metadata": {
        "colab": {
          "base_uri": "https://localhost:8080/"
        },
        "id": "4A6p8ssD4eRW",
        "outputId": "bf438c5f-9575-49f9-8a44-28d2959c7a84"
      },
      "execution_count": 8,
      "outputs": [
        {
          "output_type": "stream",
          "name": "stdout",
          "text": [
            "Please enter the year number? 1345\n",
            "Not Leap year.\n"
          ]
        }
      ]
    },
    {
      "cell_type": "markdown",
      "source": [
        "## rollercoaster with photo"
      ],
      "metadata": {
        "id": "Xeg-INIaS9xQ"
      }
    },
    {
      "cell_type": "code",
      "source": [
        "print(\"Welcom to the rollercoaster!\")\n",
        "height = int(input(\"What is your height in cm? \"))\n",
        "age = int(input(\"what is your age?\"))\n",
        "photo = input(\"do you want photo? yes or no. \")\n",
        "bill=0\n",
        "if height >= 120:\n",
        "  print(\"You can ride the rollercoaster!\")\n",
        "\n",
        "  if age <12:\n",
        "\n",
        "    bill = 5\n",
        "  elif age > 18:\n",
        "\n",
        "    bill = 12\n",
        "  else:\n",
        "\n",
        "    bill =7\n",
        "\n",
        "  if photo == \"yes\":\n",
        "    bill += 3\n",
        "\n",
        "  print(f\"please pay {bill}.\")\n",
        "\n",
        "else:\n",
        "  print(\"Sorry, you have to grow taller before you can ride.\")\n"
      ],
      "metadata": {
        "colab": {
          "base_uri": "https://localhost:8080/"
        },
        "id": "RWVLK8ZVPjho",
        "outputId": "0a46a0c5-abff-4d9d-c269-53dfcf2f3d88"
      },
      "execution_count": 11,
      "outputs": [
        {
          "output_type": "stream",
          "name": "stdout",
          "text": [
            "Welcom to the rollercoaster!\n",
            "What is your height in cm? 165\n",
            "what is your age?26\n",
            "do you want photo? yes or no. yes\n",
            "You can ride the rollercoaster!\n",
            "please pay 15.\n"
          ]
        }
      ]
    },
    {
      "cell_type": "markdown",
      "source": [
        "## Pizza Order\n"
      ],
      "metadata": {
        "id": "hYbcdafUVzkc"
      }
    },
    {
      "cell_type": "code",
      "source": [
        "print(\"Welcom to Python Pizza Deliveries!\")\n",
        "\n",
        "size = input(\"What size pizza do you want? S, M, L.\")\n",
        "add_pepperoni = input(\"Do you want pepperoni? Y, N.\")\n",
        "extra_cheese = input(\"Do you want extra cheese? Y, N.\")\n",
        "\n",
        "\n",
        "bill = 0\n",
        "\n",
        "if size == \"S\":\n",
        "  bill = 15\n",
        "  if add_pepperoni == \"Y\":\n",
        "    bill +=2\n",
        "  if extra_cheese == \"Y\":\n",
        "    bill +=1\n",
        "\n",
        "  elif size == \"M\":\n",
        "    bill=20\n",
        "  if add_pepperoni == \"Y\":\n",
        "    bill +=3\n",
        "  if extra_cheese == \"Y\":\n",
        "    bill +=1\n",
        "else :\n",
        "  bill = 25\n",
        "  if add_pepperoni == \"Y\":\n",
        "    bill +=3\n",
        "  if extra_cheese == \"Y\":\n",
        "    bill +=1\n",
        "\n",
        "print(f\"Your final bill is: ${bill}\")\n",
        "\n"
      ],
      "metadata": {
        "colab": {
          "base_uri": "https://localhost:8080/"
        },
        "id": "q2CKaGADT-vg",
        "outputId": "2d98e4de-8413-4e81-eea5-7a85cedddd72"
      },
      "execution_count": 14,
      "outputs": [
        {
          "output_type": "stream",
          "name": "stdout",
          "text": [
            "Welcom to Python Pizza Deliveries!\n",
            "What size pizza do you want? S, M, L.L\n",
            "Do you want pepperoni? Y, N.Y\n",
            "Do you want extra cheese? Y, N.N\n",
            "Your final bill is: $28\n"
          ]
        }
      ]
    },
    {
      "cell_type": "markdown",
      "source": [
        "## Middle age crisis"
      ],
      "metadata": {
        "id": "bsPepeyf5YQh"
      }
    },
    {
      "cell_type": "code",
      "source": [
        "print(\"Welcom to the rollercoaster!\")\n",
        "height = int(input(\"What is your height in cm? \"))\n",
        "age = int(input(\"what is your age?\"))\n",
        "photo = input(\"do you want photo? yes or no. \")\n",
        "bill=0\n",
        "if height >= 120:\n",
        "  print(\"You can ride the rollercoaster!\")\n",
        "\n",
        "  if age <12:\n",
        "\n",
        "    bill = 5\n",
        "  elif age < 18:\n",
        "\n",
        "    bill = 12\n",
        "\n",
        "  elif 46 <= age and age <= 55:\n",
        "    print(\"Everything is going to be ok, Have a free ride on us!!\")\n",
        "\n",
        "\n",
        "  else:\n",
        "\n",
        "    bill =7\n",
        "\n",
        "  if photo == \"yes\":\n",
        "    bill += 3\n",
        "\n",
        "  print(f\"please pay {bill}.\")\n",
        "\n",
        "else:\n",
        "  print(\"Sorry, you have to grow taller before you can ride.\")\n"
      ],
      "metadata": {
        "colab": {
          "base_uri": "https://localhost:8080/"
        },
        "id": "jgjvkYJgglE4",
        "outputId": "7be02730-37d1-4357-92f7-49f44e89b365"
      },
      "execution_count": 15,
      "outputs": [
        {
          "output_type": "stream",
          "name": "stdout",
          "text": [
            "Welcom to the rollercoaster!\n",
            "What is your height in cm? 165\n",
            "what is your age?48\n",
            "do you want photo? yes or no. y\n",
            "You can ride the rollercoaster!\n",
            "Everything is going to be ok, Have a free ride on us!!\n",
            "please pay 0.\n"
          ]
        }
      ]
    },
    {
      "cell_type": "markdown",
      "source": [
        "## Love Calculator"
      ],
      "metadata": {
        "id": "a7hxQSgJ6onU"
      }
    },
    {
      "cell_type": "code",
      "source": [
        "\n",
        "name1 = input(\"What is your name?\\n\").lower()\n",
        "name2 = input(\"What is their name name?\\n\").lower()\n",
        "\n",
        "t = name1.count(\"t\") + name2.count(\"t\")\n",
        "r = name1.count(\"r\") + name2.count(\"r\")\n",
        "u = name1.count(\"u\") + name2.count(\"u\")\n",
        "e = name1.count(\"e\") + name2.count(\"e\")\n",
        "\n",
        "true_in_name =  t + r + u + e\n",
        "\n",
        "l = name1.count(\"l\") + name2.count(\"l\")\n",
        "o = name1.count(\"o\") + name2.count(\"o\")\n",
        "v = name1.count(\"v\") + name2.count(\"v\")\n",
        "\n",
        "love_in_name = l + o + v + e\n",
        "\n",
        "love_score = true_in_name*10 + love_in_name\n",
        "\n",
        "if love_score < 10 or love_score > 90:\n",
        "  print(f\"Your score is {love_score}, you go together like coke and mentos.\")\n",
        "\n",
        "elif 40 < love_score < 50:\n",
        "  print(f\"Your score is {love_score}, you are alright together.\")\n",
        "\n",
        "else:\n",
        "  print(f\"Your score is {love_score}\")\n",
        "\n"
      ],
      "metadata": {
        "colab": {
          "base_uri": "https://localhost:8080/"
        },
        "id": "1mzPW-bC72sZ",
        "outputId": "a6ee4a5b-a01a-4d79-d994-162f720867b9"
      },
      "execution_count": 18,
      "outputs": [
        {
          "output_type": "stream",
          "name": "stdout",
          "text": [
            "What is your name?\n",
            "jennifer aniston\n",
            "What is their name name?\n",
            "brad pitt\n",
            "Your score is 73\n"
          ]
        }
      ]
    },
    {
      "cell_type": "markdown",
      "source": [
        "## Rewarding Linen Datasets"
      ],
      "metadata": {
        "id": "9eEoIKXbD3DA"
      }
    },
    {
      "cell_type": "code",
      "source": [
        "print('''\n",
        "*******************************************************************************\n",
        "          |                   |                  |                     |\n",
        " _________|________________.=\"\"_;=.______________|_____________________|_______\n",
        "|                   |  ,-\"_,=\"\"     `\"=.|                  |\n",
        "|___________________|__\"=._o`\"-._        `\"=.______________|___________________\n",
        "          |                `\"=._o`\"=._      _`\"=._                     |\n",
        " _________|_____________________:=._o \"=._.\"_.-=\"'\"=.__________________|_______\n",
        "|                   |    __.--\" , ; `\"=._o.\" ,-\"\"\"-._ \".   |\n",
        "|___________________|_._\"  ,. .` ` `` ,  `\"-._\"-._   \". '__|___________________\n",
        "          |           |o`\"=._` , \"` `; .\". ,  \"-._\"-._; ;              |\n",
        " _________|___________| ;`-.o`\"=._; .\" ` '`.\"\\` . \"-._ /_______________|_______\n",
        "|                   | |o;    `\"-.o`\"=._``  '` \" ,__.--o;   |\n",
        "|___________________|_| ;     (#) `-.o `\"=.`_.--\"_o.-; ;___|___________________\n",
        "____/______/______/___|o;._    \"      `\".o|o_.--\"    ;o;____/______/______/____\n",
        "/______/______/______/_\"=._o--._        ; | ;        ; ;/______/______/______/_\n",
        "____/______/______/______/__\"=._o--._   ;o|o;     _._;o;____/______/______/____\n",
        "/______/______/______/______/____\"=._o._; | ;_.--\"o.--\"_/______/______/______/_\n",
        "____/______/______/______/______/_____\"=.o|o_.--\"\"___/______/______/______/____\n",
        "/______/______/______/______/______/______/______/______/______/______/_____ /\n",
        "*******************************************************************************\n",
        "''')\n",
        "\n",
        "\n",
        "\n",
        "print(\"Welcome to Treasure Island.\")\n",
        "print(\"Your mission is to find the treasure.\")\n",
        "\n",
        "\n",
        "direction = input('You\\'re at a crossroad. Where do you want to go? Type \"left\" or \"right\"\\n')\n",
        "\n",
        "if direction.lower() == \"right\":\n",
        "  print(\"You were attacked and eaten by a wild dingo. Game Over.\")\n",
        "elif direction.lower() == \"left\":\n",
        "  lake = input('You\\'ve come to a lake. There is an island in the middle of the lake. Type \"wait\" to wait for a boat. Type \"swim\" to swim across.\\n')\n",
        "  if lake.lower() == \"swim\":\n",
        "    print(\"You get captivated by the songs of sirens and lured down to the lake and drown. Game Over.\")\n",
        "  else:\n",
        "    doors = input(\"You arrive at the island unharmed. There is a house with 3 doors. One red, one yellow and one blue. Which colour do you choose?\\n\")\n",
        "    if doors.lower() == \"blue\":\n",
        "      print(\"You enter a room of of puppies. You are immobilized by cuteness. You win their love, but lose the treasure. Game Over.\")\n",
        "    elif doors.lower() == \"yellow\":\n",
        "      print(\"You found the treasure! You Win!\")\n",
        "    elif doors.lower() == \"red\":\n",
        "      print(\"You enter a room full of doors to other rooms and cannot escape. Game Over.\")\n",
        "    else:\n",
        "      print(\"You chose a door that doesn't exist. Game Over.\")\n",
        "\n"
      ],
      "metadata": {
        "colab": {
          "base_uri": "https://localhost:8080/"
        },
        "id": "LfBZc_Ad-_r4",
        "outputId": "562b2654-6874-467d-ab92-509dd1080edc"
      },
      "execution_count": 21,
      "outputs": [
        {
          "output_type": "stream",
          "name": "stdout",
          "text": [
            "\n",
            "*******************************************************************************\n",
            "          |                   |                  |                     |\n",
            " _________|________________.=\"\"_;=.______________|_____________________|_______\n",
            "|                   |  ,-\"_,=\"\"     `\"=.|                  |\n",
            "|___________________|__\"=._o`\"-._        `\"=.______________|___________________\n",
            "          |                `\"=._o`\"=._      _`\"=._                     |\n",
            " _________|_____________________:=._o \"=._.\"_.-=\"'\"=.__________________|_______\n",
            "|                   |    __.--\" , ; `\"=._o.\" ,-\"\"\"-._ \".   |\n",
            "|___________________|_._\"  ,. .` ` `` ,  `\"-._\"-._   \". '__|___________________\n",
            "          |           |o`\"=._` , \"` `; .\". ,  \"-._\"-._; ;              |\n",
            " _________|___________| ;`-.o`\"=._; .\" ` '`.\"\\` . \"-._ /_______________|_______\n",
            "|                   | |o;    `\"-.o`\"=._``  '` \" ,__.--o;   |\n",
            "|___________________|_| ;     (#) `-.o `\"=.`_.--\"_o.-; ;___|___________________\n",
            "____/______/______/___|o;._    \"      `\".o|o_.--\"    ;o;____/______/______/____\n",
            "/______/______/______/_\"=._o--._        ; | ;        ; ;/______/______/______/_\n",
            "____/______/______/______/__\"=._o--._   ;o|o;     _._;o;____/______/______/____\n",
            "/______/______/______/______/____\"=._o._; | ;_.--\"o.--\"_/______/______/______/_\n",
            "____/______/______/______/______/_____\"=.o|o_.--\"\"___/______/______/______/____\n",
            "/______/______/______/______/______/______/______/______/______/______/_____ /\n",
            "*******************************************************************************\n",
            "\n",
            "Welcome to Treasure Island.\n",
            "Your mission is to find the treasure.\n",
            "You're at a crossroad. Where do you want to go? Type \"left\" or \"right\"\n",
            "left\n",
            "You've come to a lake. There is an island in the middle of the lake. Type \"wait\" to wait for a boat. Type \"swim\" to swim across.\n",
            "wait\n",
            "You arrive at the island unharmed. There is a house with 3 doors. One red, one yellow and one blue. Which colour do you choose?\n",
            "red\n",
            "You enter a room full of doors to other rooms and cannot escape. Game Over.\n"
          ]
        }
      ]
    },
    {
      "cell_type": "code",
      "source": [],
      "metadata": {
        "id": "oNv67qNEDx5T"
      },
      "execution_count": null,
      "outputs": []
    }
  ]
}