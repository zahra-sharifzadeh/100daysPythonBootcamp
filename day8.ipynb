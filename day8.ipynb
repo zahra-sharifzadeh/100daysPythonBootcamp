{
  "nbformat": 4,
  "nbformat_minor": 0,
  "metadata": {
    "colab": {
      "provenance": [],
      "authorship_tag": "ABX9TyOXWrgHztmW4zbwmnomdaMb",
      "include_colab_link": true
    },
    "kernelspec": {
      "name": "python3",
      "display_name": "Python 3"
    },
    "language_info": {
      "name": "python"
    }
  },
  "cells": [
    {
      "cell_type": "markdown",
      "metadata": {
        "id": "view-in-github",
        "colab_type": "text"
      },
      "source": [
        "<a href=\"https://colab.research.google.com/github/zahra-sharifzadeh/100daysPythonBootcamp/blob/main/day8.ipynb\" target=\"_parent\"><img src=\"https://colab.research.google.com/assets/colab-badge.svg\" alt=\"Open In Colab\"/></a>"
      ]
    },
    {
      "cell_type": "markdown",
      "source": [
        "#Function with Input"
      ],
      "metadata": {
        "id": "JJjjUIELwcFb"
      }
    },
    {
      "cell_type": "code",
      "execution_count": 1,
      "metadata": {
        "colab": {
          "base_uri": "https://localhost:8080/"
        },
        "id": "6QMz7f3YNFRO",
        "outputId": "3660e9f8-4c10-4860-d983-0ee73bbc3826"
      },
      "outputs": [
        {
          "output_type": "stream",
          "name": "stdout",
          "text": [
            "Welcome\n",
            "Hello\n",
            "How are you?\n"
          ]
        }
      ],
      "source": [
        "def greet():\n",
        "  print(\"Welcome\")\n",
        "  print(\"Hello\")\n",
        "  print(\"How are you?\")\n",
        "\n",
        "greet()"
      ]
    },
    {
      "cell_type": "code",
      "source": [
        "def greet_with_name(name):\n",
        "  print(f\"Welcome {name}\")\n",
        "  print(f\"Hello {name}\")\n",
        "  print(f\"How are you, {name}?\")\n",
        "\n",
        "\n",
        "greet_with_name(\"Zahra\")"
      ],
      "metadata": {
        "colab": {
          "base_uri": "https://localhost:8080/"
        },
        "id": "M57fzlqPN9Kj",
        "outputId": "1bc37f03-bef6-4a9a-8df2-d1fc2513c0d7"
      },
      "execution_count": 3,
      "outputs": [
        {
          "output_type": "stream",
          "name": "stdout",
          "text": [
            "Welcome Zahra\n",
            "Hello Zahra\n",
            "How are you, Zahra?\n"
          ]
        }
      ]
    },
    {
      "cell_type": "markdown",
      "source": [
        "## Function with more than one input"
      ],
      "metadata": {
        "id": "pZ4WsEsIwjd6"
      }
    },
    {
      "cell_type": "markdown",
      "source": [
        "### Positional Argument"
      ],
      "metadata": {
        "id": "92QKPMs7xYfA"
      }
    },
    {
      "cell_type": "code",
      "source": [
        "def greet_with_name_location(name, location):\n",
        "  print(f\"Hello {name}\")\n",
        "  print(f\"What is it like in {location}?\")\n",
        "\n",
        "greet_with_name_location(\"Zahra\", \"Tehran\")"
      ],
      "metadata": {
        "colab": {
          "base_uri": "https://localhost:8080/"
        },
        "id": "9DlcinWJwVz0",
        "outputId": "8bcc24ad-021b-406e-ce9b-581dcbda6fdd"
      },
      "execution_count": 5,
      "outputs": [
        {
          "output_type": "stream",
          "name": "stdout",
          "text": [
            "Hello Zahra\n",
            "What is it like in Tehran?\n"
          ]
        }
      ]
    },
    {
      "cell_type": "markdown",
      "source": [
        "### Keyword Argument"
      ],
      "metadata": {
        "id": "iy5mM9T8xb_p"
      }
    },
    {
      "cell_type": "code",
      "source": [
        "def greet_with_name_location(name , location):\n",
        "  print(f\"Hello {name}\")\n",
        "  print(f\"What is it like in {location}?\")\n",
        "\n",
        "greet_with_name_location(name = \"Zahra\", location= \"Tehran\")"
      ],
      "metadata": {
        "colab": {
          "base_uri": "https://localhost:8080/"
        },
        "id": "NvlMnPe6xoRr",
        "outputId": "4be232d5-1c29-4b6b-cdd6-1de05862fbf5"
      },
      "execution_count": 6,
      "outputs": [
        {
          "output_type": "stream",
          "name": "stdout",
          "text": [
            "Hello Zahra\n",
            "What is it like in Tehran?\n"
          ]
        }
      ]
    },
    {
      "cell_type": "markdown",
      "source": [
        "## Area Calc"
      ],
      "metadata": {
        "id": "aQ54k18L2O5h"
      }
    },
    {
      "cell_type": "code",
      "source": [
        "from math import ceil\n",
        "\n",
        "def pain_calc(height, width, coverage):\n",
        "  number_of_cans = (height * width) / coverage\n",
        "  number_of_cans = ceil(number_of_cans)\n",
        "  print(f\"You'll need {number_of_cans} for your house.\")\n",
        "\n",
        "\n",
        "test_h = int(input(\"Height of wall: \"))\n",
        "test_w = int(input(\"Width of wall: \"))\n",
        "\n",
        "coverage = 5\n",
        "\n",
        "\n",
        "pain_calc(height= test_h, width= test_w, coverage= coverage)"
      ],
      "metadata": {
        "colab": {
          "base_uri": "https://localhost:8080/"
        },
        "id": "FHxnpLJow50i",
        "outputId": "b6fdf0fb-085a-4b72-f9ce-04d171e014fa"
      },
      "execution_count": 12,
      "outputs": [
        {
          "output_type": "stream",
          "name": "stdout",
          "text": [
            "Height of wall: 5\n",
            "Width of wall: 3\n",
            "You'll need 3 for your house.\n"
          ]
        }
      ]
    },
    {
      "cell_type": "markdown",
      "source": [
        "## Prim number"
      ],
      "metadata": {
        "id": "GUtk1K3f-AQQ"
      }
    },
    {
      "cell_type": "code",
      "source": [
        "import math\n",
        "\n",
        "def prime_checker(number):\n",
        "  prim_flag = True\n",
        "\n",
        "  for i in range(2, number):\n",
        "    if number % i == 0:\n",
        "      prim_flag = False\n",
        "  if number == 2:\n",
        "    prim_flag = True\n",
        "  if  prim_flag:\n",
        "    print(\"it's a prime number. \")\n",
        "\n",
        "  else:\n",
        "    print(\"it's not a prime number.\")\n",
        "\n",
        "\n",
        "\n",
        "n = int(input(\"Check this number: \"))\n",
        "prime_checker(number= n)"
      ],
      "metadata": {
        "colab": {
          "base_uri": "https://localhost:8080/"
        },
        "id": "GyFSZlsY8iBS",
        "outputId": "32553611-1a3d-4eb0-8c78-462b2a99797e"
      },
      "execution_count": 21,
      "outputs": [
        {
          "output_type": "stream",
          "name": "stdout",
          "text": [
            "Check this number: 6\n",
            "it's not a prime number.\n"
          ]
        }
      ]
    },
    {
      "cell_type": "markdown",
      "source": [
        "## Ceasar-cipher-1-start"
      ],
      "metadata": {
        "id": "OTNxwGck3-KC"
      }
    },
    {
      "cell_type": "code",
      "source": [
        "alphabet = ['a', 'b', 'c', 'd', 'e', 'f', 'g', 'h', 'i', 'j', 'k', 'l', 'm', 'n', 'o', 'p', 'q', 'r', 's', 't', 'u', 'v', 'w', 'x', 'y', 'z', 'a', 'b', 'c', 'd', 'e', 'f', 'g', 'h', 'i', 'j', 'k', 'l', 'm', 'n', 'o', 'p', 'q', 'r', 's', 't', 'u', 'v', 'w', 'x', 'y', 'z']\n",
        "\n",
        "direction = input(\"Type 'encode' to encrypt, type 'decode' to decrypt:\\n\").lower()\n",
        "\n",
        "text = input(\"Type your message:\\n\").lower()\n",
        "shift = int(input(\"Type the shift number:\\n\"))\n",
        "\n",
        "\n",
        "\n",
        "\n",
        "\n",
        ""
      ],
      "metadata": {
        "colab": {
          "base_uri": "https://localhost:8080/"
        },
        "id": "iCI8VejJADrY",
        "outputId": "40b1ea2e-5f7e-4623-9373-d5fd200440b9"
      },
      "execution_count": 6,
      "outputs": [
        {
          "name": "stdout",
          "output_type": "stream",
          "text": [
            "Type 'encode' to encrypt, type 'decode' to decrypt:\n",
            "encode\n",
            "Type your message:\n",
            "hello\n",
            "Type the shift number:\n",
            "5\n"
          ]
        }
      ]
    },
    {
      "cell_type": "code",
      "source": [
        "def encrypt(text, shift):\n",
        "  encoded = ''\n",
        "  for char in text:\n",
        "    position = alphabet.index(char)\n",
        "    new_position = position + shift\n",
        "    if new_position > len(alphabet):\n",
        "      new_position = new_position - len(alphabet)\n",
        "    encoded += alphabet[new_position]\n",
        "  print(encoded)\n",
        "\n",
        "encrypt(text, shift)"
      ],
      "metadata": {
        "colab": {
          "base_uri": "https://localhost:8080/"
        },
        "id": "gIwJB_wD4lxA",
        "outputId": "a4b90cb5-d91b-4df2-ec11-47eec284287e"
      },
      "execution_count": 9,
      "outputs": [
        {
          "output_type": "stream",
          "name": "stdout",
          "text": [
            "mjqqt\n"
          ]
        }
      ]
    },
    {
      "cell_type": "code",
      "source": [
        "encrypt(text=\"zahra\", shift=shift)"
      ],
      "metadata": {
        "colab": {
          "base_uri": "https://localhost:8080/"
        },
        "id": "qj8Pd_TB_xmi",
        "outputId": "6359830d-fb5e-4d94-ad30-dc7036e66525"
      },
      "execution_count": 11,
      "outputs": [
        {
          "output_type": "stream",
          "name": "stdout",
          "text": [
            "efmwf\n"
          ]
        }
      ]
    },
    {
      "cell_type": "code",
      "source": [
        "def decrypt(text, shift):\n",
        "  decoded = ''\n",
        "\n",
        "  for char in text:\n",
        "    position =alphabet.index(char)\n",
        "    new_position = position - shift\n",
        "    decoded += alphabet[new_position]\n",
        "\n",
        "  print(decoded)\n",
        "\n",
        "decrypt(\"mjqqt\", shift)"
      ],
      "metadata": {
        "colab": {
          "base_uri": "https://localhost:8080/"
        },
        "id": "kzOC68qJA29v",
        "outputId": "abab5a8b-7b1e-484f-d1ec-761841150e0a"
      },
      "execution_count": 13,
      "outputs": [
        {
          "output_type": "stream",
          "name": "stdout",
          "text": [
            "hello\n"
          ]
        }
      ]
    },
    {
      "cell_type": "code",
      "source": [
        "\n",
        "\n",
        "\n",
        "\n",
        "if direction == \"encode\":\n",
        "  encrypt(text=text, shift=shift)\n",
        "\n",
        "elif direction == \"decode\":\n",
        "  decrypt(text, shift)\n",
        "\n",
        "else:\n",
        "  print(\"you have entered wrong keyword!!\")"
      ],
      "metadata": {
        "colab": {
          "base_uri": "https://localhost:8080/"
        },
        "id": "Dn-cYVWQKndS",
        "outputId": "1fa88f31-8115-47f8-e65e-4240574b9c43"
      },
      "execution_count": 15,
      "outputs": [
        {
          "output_type": "stream",
          "name": "stdout",
          "text": [
            "Type 'encode' to encrypt, type 'decode' to decrypt:\n",
            "decode\n",
            "Type your message:\n",
            "mjqqt\n",
            "Type the shift number:\n",
            "5\n",
            "hello\n"
          ]
        }
      ]
    },
    {
      "cell_type": "markdown",
      "source": [
        "##Ceasar-cipher-2-star"
      ],
      "metadata": {
        "id": "-WQPi7hFOf9c"
      }
    },
    {
      "cell_type": "code",
      "source": [
        "alphabet = ['a', 'b', 'c', 'd', 'e', 'f', 'g', 'h', 'i', 'j', 'k', 'l', 'm', 'n', 'o', 'p', 'q', 'r', 's', 't', 'u', 'v', 'w', 'x', 'y', 'z', 'a', 'b', 'c', 'd', 'e', 'f', 'g', 'h', 'i', 'j', 'k', 'l', 'm', 'n', 'o', 'p', 'q', 'r', 's', 't', 'u', 'v', 'w', 'x', 'y', 'z','a', 'b', 'c', 'd', 'e', 'f', 'g', 'h', 'i', 'j', 'k', 'l', 'm', 'n', 'o', 'p', 'q', 'r', 's', 't', 'u', 'v', 'w', 'x', 'y', 'z', 'a', 'b', 'c', 'd', 'e', 'f', 'g', 'h', 'i', 'j', 'k', 'l', 'm', 'n', 'o', 'p', 'q', 'r', 's', 't', 'u', 'v', 'w', 'x', 'y', 'z']\n",
        "\n",
        "direction = input(\"Type 'encode' to encrypt, type 'decode' to decrypt:\\n\").lower()\n",
        "\n",
        "text = input(\"Type your message:\\n\").lower()\n",
        "shift = int(input(\"Type the shift number:\\n\"))\n",
        "\n",
        "\n",
        "def ceasar(text, shift, direction):\n",
        "  new_text = \"\"\n",
        "  if direction == \"encode\":\n",
        "    coefficient = 1\n",
        "\n",
        "  elif direction == \"decode\":\n",
        "    coefficient = -1\n",
        "\n",
        "  else:\n",
        "    print(\"you have entered wrong keyword!!\")\n",
        "\n",
        "  for char in text:\n",
        "    position =alphabet.index(char)\n",
        "    new_position = position + coefficient * shift\n",
        "    new_text += alphabet[new_position]\n",
        "\n",
        "  print(new_text)\n",
        "\n",
        "\n",
        "ceasar(text, shift, direction)"
      ],
      "metadata": {
        "colab": {
          "base_uri": "https://localhost:8080/"
        },
        "id": "BBc9K0HkNcaC",
        "outputId": "cc947d92-519c-4b45-aff0-9b5e90e20f31"
      },
      "execution_count": 19,
      "outputs": [
        {
          "output_type": "stream",
          "name": "stdout",
          "text": [
            "Type 'encode' to encrypt, type 'decode' to decrypt:\n",
            "encode\n",
            "Type your message:\n",
            "hello\n",
            "Type the shift number:\n",
            "5\n",
            "mjqqt\n"
          ]
        }
      ]
    },
    {
      "cell_type": "code",
      "source": [
        "alphabet = ['a', 'b', 'c', 'd', 'e', 'f', 'g', 'h', 'i', 'j', 'k', 'l', 'm', 'n', 'o', 'p', 'q', 'r', 's', 't', 'u', 'v', 'w', 'x', 'y', 'z', 'a', 'b', 'c', 'd', 'e', 'f', 'g', 'h', 'i', 'j', 'k', 'l', 'm', 'n', 'o', 'p', 'q', 'r', 's', 't', 'u', 'v', 'w', 'x', 'y', 'z','a', 'b', 'c', 'd', 'e', 'f', 'g', 'h', 'i', 'j', 'k', 'l', 'm', 'n', 'o', 'p', 'q', 'r', 's', 't', 'u', 'v', 'w', 'x', 'y', 'z', 'a', 'b', 'c', 'd', 'e', 'f', 'g', 'h', 'i', 'j', 'k', 'l', 'm', 'n', 'o', 'p', 'q', 'r', 's', 't', 'u', 'v', 'w', 'x', 'y', 'z']\n",
        "\n",
        "direction = input(\"Type 'encode' to encrypt, type 'decode' to decrypt:\\n\").lower()\n",
        "\n",
        "text = input(\"Type your message:\\n\").lower()\n",
        "shift = int(input(\"Type the shift number:\\n\"))\n",
        "\n",
        "\n",
        "def ceasar(text, shift, direction):\n",
        "  new_text = \"\"\n",
        "  if direction == \"encode\":\n",
        "    coefficient = 1\n",
        "\n",
        "  elif direction == \"decode\":\n",
        "    coefficient = -1\n",
        "\n",
        "  else:\n",
        "    print(\"you have entered wrong keyword!!\")\n",
        "\n",
        "  for char in text:\n",
        "    position =alphabet.index(char)\n",
        "    new_position = position + coefficient * shift\n",
        "    new_text += alphabet[new_position]\n",
        "\n",
        "  print(new_text)\n",
        "\n",
        "\n",
        "ceasar(text, shift, direction)"
      ],
      "metadata": {
        "colab": {
          "base_uri": "https://localhost:8080/"
        },
        "id": "rHkpzfHfeExc",
        "outputId": "ad98852f-6f36-46a5-b14a-aaa16610ca7d"
      },
      "execution_count": 20,
      "outputs": [
        {
          "output_type": "stream",
          "name": "stdout",
          "text": [
            "Type 'encode' to encrypt, type 'decode' to decrypt:\n",
            "decode\n",
            "Type your message:\n",
            "mjqqt\n",
            "Type the shift number:\n",
            "5\n",
            "hello\n"
          ]
        }
      ]
    },
    {
      "cell_type": "code",
      "source": [
        "logo = \"\"\"\n",
        "░█████╗░░█████╗░███████╗░██████╗░█████╗░██████╗░  ░█████╗░██╗██████╗░██╗░░██╗███████╗██████╗░\n",
        "██╔══██╗██╔══██╗██╔════╝██╔════╝██╔══██╗██╔══██╗  ██╔══██╗██║██╔══██╗██║░░██║██╔════╝██╔══██╗\n",
        "██║░░╚═╝███████║█████╗░░╚█████╗░███████║██████╔╝  ██║░░╚═╝██║██████╔╝███████║█████╗░░██████╔╝\n",
        "██║░░██╗██╔══██║██╔══╝░░░╚═══██╗██╔══██║██╔══██╗  ██║░░██╗██║██╔═══╝░██╔══██║██╔══╝░░██╔══██╗\n",
        "╚█████╔╝██║░░██║███████╗██████╔╝██║░░██║██║░░██║  ╚█████╔╝██║██║░░░░░██║░░██║███████╗██║░░██║\n",
        "░╚════╝░╚═╝░░╚═╝╚══════╝╚═════╝░╚═╝░░╚═╝╚═╝░░╚═╝  ░╚════╝░╚═╝╚═╝░░░░░╚═╝░░╚═╝╚══════╝╚═╝░░╚═╝\n",
        "\"\"\""
      ],
      "metadata": {
        "id": "To7ifIFYeWzZ"
      },
      "execution_count": 24,
      "outputs": []
    },
    {
      "cell_type": "code",
      "source": [
        "def ceasar(text, shift, direction):\n",
        "  new_text = \"\"\n",
        "  new_shift = shift % len(alphabet)\n",
        "  if direction == \"encode\":\n",
        "    coefficient = 1\n",
        "\n",
        "  elif direction == \"decode\":\n",
        "    coefficient = -1\n",
        "\n",
        "  else:\n",
        "    print(\"you have entered wrong keyword!!\")\n",
        "\n",
        "  for char in text:\n",
        "    if char in alphabet:\n",
        "      position =alphabet.index(char)\n",
        "      new_position = position + coefficient * new_shift\n",
        "      new_text += alphabet[new_position]\n",
        "    else:\n",
        "      new_text += char\n",
        "\n",
        "  print(new_text)\n",
        "\n",
        "\n",
        "print(logo)\n",
        "\n",
        "alphabet = ['a', 'b', 'c', 'd', 'e', 'f', 'g', 'h', 'i', 'j', 'k', 'l', 'm', 'n', 'o', 'p', 'q', 'r', 's', 't', 'u', 'v', 'w', 'x', 'y', 'z', 'a', 'b', 'c', 'd', 'e', 'f', 'g', 'h', 'i', 'j', 'k', 'l', 'm', 'n', 'o', 'p', 'q', 'r', 's', 't', 'u', 'v', 'w', 'x', 'y', 'z']\n",
        "\n",
        "direction = input(\"Type 'encode' to encrypt, type 'decode' to decrypt:\\n\").lower()\n",
        "\n",
        "text = input(\"Type your message:\\n\").lower()\n",
        "shift = int(input(\"Type the shift number:\\n\"))\n",
        "\n",
        "ceasar(text, shift, direction)"
      ],
      "metadata": {
        "colab": {
          "base_uri": "https://localhost:8080/"
        },
        "id": "Ng1yqWgygzmg",
        "outputId": "c0668391-2285-434b-b79e-9fac550f97d7"
      },
      "execution_count": 26,
      "outputs": [
        {
          "output_type": "stream",
          "name": "stdout",
          "text": [
            "           \n",
            "░█████╗░░█████╗░███████╗░██████╗░█████╗░██████╗░  ░█████╗░██╗██████╗░██╗░░██╗███████╗██████╗░\n",
            "██╔══██╗██╔══██╗██╔════╝██╔════╝██╔══██╗██╔══██╗  ██╔══██╗██║██╔══██╗██║░░██║██╔════╝██╔══██╗\n",
            "██║░░╚═╝███████║█████╗░░╚█████╗░███████║██████╔╝  ██║░░╚═╝██║██████╔╝███████║█████╗░░██████╔╝\n",
            "██║░░██╗██╔══██║██╔══╝░░░╚═══██╗██╔══██║██╔══██╗  ██║░░██╗██║██╔═══╝░██╔══██║██╔══╝░░██╔══██╗\n",
            "╚█████╔╝██║░░██║███████╗██████╔╝██║░░██║██║░░██║  ╚█████╔╝██║██║░░░░░██║░░██║███████╗██║░░██║\n",
            "░╚════╝░╚═╝░░╚═╝╚══════╝╚═════╝░╚═╝░░╚═╝╚═╝░░╚═╝  ░╚════╝░╚═╝╚═╝░░░░░╚═╝░░╚═╝╚══════╝╚═╝░░╚═╝        \n",
            "\n",
            "Type 'encode' to encrypt, type 'decode' to decrypt:\n",
            "encode\n",
            "Type your message:\n",
            "meet me at 3\n",
            "Type the shift number:\n",
            "5\n",
            "rjjy rj fy 3\n"
          ]
        }
      ]
    },
    {
      "cell_type": "code",
      "source": [],
      "metadata": {
        "id": "zhsY9wfhhEXh"
      },
      "execution_count": null,
      "outputs": []
    }
  ]
}